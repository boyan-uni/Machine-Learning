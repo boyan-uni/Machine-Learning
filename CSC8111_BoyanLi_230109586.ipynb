{
  "nbformat": 4,
  "nbformat_minor": 0,
  "metadata": {
    "colab": {
      "provenance": [],
      "collapsed_sections": [
        "xDPwGIZYWNG5",
        "zlJKjLzA6mD-",
        "CcJGyPXwXDSc"
      ],
      "toc_visible": true
    },
    "kernelspec": {
      "name": "python3",
      "display_name": "Python 3"
    },
    "language_info": {
      "name": "python"
    },
    "widgets": {
      "application/vnd.jupyter.widget-state+json": {
        "8ee8b144bb5e412ab49da2e9fe5c515e": {
          "model_module": "@jupyter-widgets/controls",
          "model_name": "HBoxModel",
          "model_module_version": "1.5.0",
          "state": {
            "_dom_classes": [],
            "_model_module": "@jupyter-widgets/controls",
            "_model_module_version": "1.5.0",
            "_model_name": "HBoxModel",
            "_view_count": null,
            "_view_module": "@jupyter-widgets/controls",
            "_view_module_version": "1.5.0",
            "_view_name": "HBoxView",
            "box_style": "",
            "children": [
              "IPY_MODEL_1940eed97adf4664b1ad557ee20097b5",
              "IPY_MODEL_a56062eeb2b942199e8d0d99bed22a9b",
              "IPY_MODEL_f1d3f9c6af4943ee8070efbe14ffab95"
            ],
            "layout": "IPY_MODEL_44d0ef509ff94698b7480e0cd9491f9c"
          }
        },
        "1940eed97adf4664b1ad557ee20097b5": {
          "model_module": "@jupyter-widgets/controls",
          "model_name": "HTMLModel",
          "model_module_version": "1.5.0",
          "state": {
            "_dom_classes": [],
            "_model_module": "@jupyter-widgets/controls",
            "_model_module_version": "1.5.0",
            "_model_name": "HTMLModel",
            "_view_count": null,
            "_view_module": "@jupyter-widgets/controls",
            "_view_module_version": "1.5.0",
            "_view_name": "HTMLView",
            "description": "",
            "description_tooltip": null,
            "layout": "IPY_MODEL_2422480b6af54de3ae1cad8967618ea7",
            "placeholder": "​",
            "style": "IPY_MODEL_dab27f0ed6f34830b5b774fb6d23858b",
            "value": "tokenizer_config.json: 100%"
          }
        },
        "a56062eeb2b942199e8d0d99bed22a9b": {
          "model_module": "@jupyter-widgets/controls",
          "model_name": "FloatProgressModel",
          "model_module_version": "1.5.0",
          "state": {
            "_dom_classes": [],
            "_model_module": "@jupyter-widgets/controls",
            "_model_module_version": "1.5.0",
            "_model_name": "FloatProgressModel",
            "_view_count": null,
            "_view_module": "@jupyter-widgets/controls",
            "_view_module_version": "1.5.0",
            "_view_name": "ProgressView",
            "bar_style": "success",
            "description": "",
            "description_tooltip": null,
            "layout": "IPY_MODEL_4dfab763189a489ea468d5372c40c846",
            "max": 28,
            "min": 0,
            "orientation": "horizontal",
            "style": "IPY_MODEL_8e672982dc714f1983d540101190171d",
            "value": 28
          }
        },
        "f1d3f9c6af4943ee8070efbe14ffab95": {
          "model_module": "@jupyter-widgets/controls",
          "model_name": "HTMLModel",
          "model_module_version": "1.5.0",
          "state": {
            "_dom_classes": [],
            "_model_module": "@jupyter-widgets/controls",
            "_model_module_version": "1.5.0",
            "_model_name": "HTMLModel",
            "_view_count": null,
            "_view_module": "@jupyter-widgets/controls",
            "_view_module_version": "1.5.0",
            "_view_name": "HTMLView",
            "description": "",
            "description_tooltip": null,
            "layout": "IPY_MODEL_2cd399cc5c174bae94fa92b5ae944c99",
            "placeholder": "​",
            "style": "IPY_MODEL_adde83c01eda4285a1d863f01da600bd",
            "value": " 28.0/28.0 [00:00&lt;00:00, 376B/s]"
          }
        },
        "44d0ef509ff94698b7480e0cd9491f9c": {
          "model_module": "@jupyter-widgets/base",
          "model_name": "LayoutModel",
          "model_module_version": "1.2.0",
          "state": {
            "_model_module": "@jupyter-widgets/base",
            "_model_module_version": "1.2.0",
            "_model_name": "LayoutModel",
            "_view_count": null,
            "_view_module": "@jupyter-widgets/base",
            "_view_module_version": "1.2.0",
            "_view_name": "LayoutView",
            "align_content": null,
            "align_items": null,
            "align_self": null,
            "border": null,
            "bottom": null,
            "display": null,
            "flex": null,
            "flex_flow": null,
            "grid_area": null,
            "grid_auto_columns": null,
            "grid_auto_flow": null,
            "grid_auto_rows": null,
            "grid_column": null,
            "grid_gap": null,
            "grid_row": null,
            "grid_template_areas": null,
            "grid_template_columns": null,
            "grid_template_rows": null,
            "height": null,
            "justify_content": null,
            "justify_items": null,
            "left": null,
            "margin": null,
            "max_height": null,
            "max_width": null,
            "min_height": null,
            "min_width": null,
            "object_fit": null,
            "object_position": null,
            "order": null,
            "overflow": null,
            "overflow_x": null,
            "overflow_y": null,
            "padding": null,
            "right": null,
            "top": null,
            "visibility": null,
            "width": null
          }
        },
        "2422480b6af54de3ae1cad8967618ea7": {
          "model_module": "@jupyter-widgets/base",
          "model_name": "LayoutModel",
          "model_module_version": "1.2.0",
          "state": {
            "_model_module": "@jupyter-widgets/base",
            "_model_module_version": "1.2.0",
            "_model_name": "LayoutModel",
            "_view_count": null,
            "_view_module": "@jupyter-widgets/base",
            "_view_module_version": "1.2.0",
            "_view_name": "LayoutView",
            "align_content": null,
            "align_items": null,
            "align_self": null,
            "border": null,
            "bottom": null,
            "display": null,
            "flex": null,
            "flex_flow": null,
            "grid_area": null,
            "grid_auto_columns": null,
            "grid_auto_flow": null,
            "grid_auto_rows": null,
            "grid_column": null,
            "grid_gap": null,
            "grid_row": null,
            "grid_template_areas": null,
            "grid_template_columns": null,
            "grid_template_rows": null,
            "height": null,
            "justify_content": null,
            "justify_items": null,
            "left": null,
            "margin": null,
            "max_height": null,
            "max_width": null,
            "min_height": null,
            "min_width": null,
            "object_fit": null,
            "object_position": null,
            "order": null,
            "overflow": null,
            "overflow_x": null,
            "overflow_y": null,
            "padding": null,
            "right": null,
            "top": null,
            "visibility": null,
            "width": null
          }
        },
        "dab27f0ed6f34830b5b774fb6d23858b": {
          "model_module": "@jupyter-widgets/controls",
          "model_name": "DescriptionStyleModel",
          "model_module_version": "1.5.0",
          "state": {
            "_model_module": "@jupyter-widgets/controls",
            "_model_module_version": "1.5.0",
            "_model_name": "DescriptionStyleModel",
            "_view_count": null,
            "_view_module": "@jupyter-widgets/base",
            "_view_module_version": "1.2.0",
            "_view_name": "StyleView",
            "description_width": ""
          }
        },
        "4dfab763189a489ea468d5372c40c846": {
          "model_module": "@jupyter-widgets/base",
          "model_name": "LayoutModel",
          "model_module_version": "1.2.0",
          "state": {
            "_model_module": "@jupyter-widgets/base",
            "_model_module_version": "1.2.0",
            "_model_name": "LayoutModel",
            "_view_count": null,
            "_view_module": "@jupyter-widgets/base",
            "_view_module_version": "1.2.0",
            "_view_name": "LayoutView",
            "align_content": null,
            "align_items": null,
            "align_self": null,
            "border": null,
            "bottom": null,
            "display": null,
            "flex": null,
            "flex_flow": null,
            "grid_area": null,
            "grid_auto_columns": null,
            "grid_auto_flow": null,
            "grid_auto_rows": null,
            "grid_column": null,
            "grid_gap": null,
            "grid_row": null,
            "grid_template_areas": null,
            "grid_template_columns": null,
            "grid_template_rows": null,
            "height": null,
            "justify_content": null,
            "justify_items": null,
            "left": null,
            "margin": null,
            "max_height": null,
            "max_width": null,
            "min_height": null,
            "min_width": null,
            "object_fit": null,
            "object_position": null,
            "order": null,
            "overflow": null,
            "overflow_x": null,
            "overflow_y": null,
            "padding": null,
            "right": null,
            "top": null,
            "visibility": null,
            "width": null
          }
        },
        "8e672982dc714f1983d540101190171d": {
          "model_module": "@jupyter-widgets/controls",
          "model_name": "ProgressStyleModel",
          "model_module_version": "1.5.0",
          "state": {
            "_model_module": "@jupyter-widgets/controls",
            "_model_module_version": "1.5.0",
            "_model_name": "ProgressStyleModel",
            "_view_count": null,
            "_view_module": "@jupyter-widgets/base",
            "_view_module_version": "1.2.0",
            "_view_name": "StyleView",
            "bar_color": null,
            "description_width": ""
          }
        },
        "2cd399cc5c174bae94fa92b5ae944c99": {
          "model_module": "@jupyter-widgets/base",
          "model_name": "LayoutModel",
          "model_module_version": "1.2.0",
          "state": {
            "_model_module": "@jupyter-widgets/base",
            "_model_module_version": "1.2.0",
            "_model_name": "LayoutModel",
            "_view_count": null,
            "_view_module": "@jupyter-widgets/base",
            "_view_module_version": "1.2.0",
            "_view_name": "LayoutView",
            "align_content": null,
            "align_items": null,
            "align_self": null,
            "border": null,
            "bottom": null,
            "display": null,
            "flex": null,
            "flex_flow": null,
            "grid_area": null,
            "grid_auto_columns": null,
            "grid_auto_flow": null,
            "grid_auto_rows": null,
            "grid_column": null,
            "grid_gap": null,
            "grid_row": null,
            "grid_template_areas": null,
            "grid_template_columns": null,
            "grid_template_rows": null,
            "height": null,
            "justify_content": null,
            "justify_items": null,
            "left": null,
            "margin": null,
            "max_height": null,
            "max_width": null,
            "min_height": null,
            "min_width": null,
            "object_fit": null,
            "object_position": null,
            "order": null,
            "overflow": null,
            "overflow_x": null,
            "overflow_y": null,
            "padding": null,
            "right": null,
            "top": null,
            "visibility": null,
            "width": null
          }
        },
        "adde83c01eda4285a1d863f01da600bd": {
          "model_module": "@jupyter-widgets/controls",
          "model_name": "DescriptionStyleModel",
          "model_module_version": "1.5.0",
          "state": {
            "_model_module": "@jupyter-widgets/controls",
            "_model_module_version": "1.5.0",
            "_model_name": "DescriptionStyleModel",
            "_view_count": null,
            "_view_module": "@jupyter-widgets/base",
            "_view_module_version": "1.2.0",
            "_view_name": "StyleView",
            "description_width": ""
          }
        },
        "249c70659824498a8fa1f7fe8c7817eb": {
          "model_module": "@jupyter-widgets/controls",
          "model_name": "HBoxModel",
          "model_module_version": "1.5.0",
          "state": {
            "_dom_classes": [],
            "_model_module": "@jupyter-widgets/controls",
            "_model_module_version": "1.5.0",
            "_model_name": "HBoxModel",
            "_view_count": null,
            "_view_module": "@jupyter-widgets/controls",
            "_view_module_version": "1.5.0",
            "_view_name": "HBoxView",
            "box_style": "",
            "children": [
              "IPY_MODEL_898d62482b194bdf8590de7b1815a50c",
              "IPY_MODEL_4a49f850aa8748ac80745060822d689d",
              "IPY_MODEL_b66b7d991fa045c78e95eac84c4d3990"
            ],
            "layout": "IPY_MODEL_11e32ce485b145ef8964f7d0a1e43ba2"
          }
        },
        "898d62482b194bdf8590de7b1815a50c": {
          "model_module": "@jupyter-widgets/controls",
          "model_name": "HTMLModel",
          "model_module_version": "1.5.0",
          "state": {
            "_dom_classes": [],
            "_model_module": "@jupyter-widgets/controls",
            "_model_module_version": "1.5.0",
            "_model_name": "HTMLModel",
            "_view_count": null,
            "_view_module": "@jupyter-widgets/controls",
            "_view_module_version": "1.5.0",
            "_view_name": "HTMLView",
            "description": "",
            "description_tooltip": null,
            "layout": "IPY_MODEL_3cf3c6cd87ba4fcb91ac85e2e7ae9bea",
            "placeholder": "​",
            "style": "IPY_MODEL_50936a0b8ed345dcaf621ca5b28798b1",
            "value": "vocab.txt: 100%"
          }
        },
        "4a49f850aa8748ac80745060822d689d": {
          "model_module": "@jupyter-widgets/controls",
          "model_name": "FloatProgressModel",
          "model_module_version": "1.5.0",
          "state": {
            "_dom_classes": [],
            "_model_module": "@jupyter-widgets/controls",
            "_model_module_version": "1.5.0",
            "_model_name": "FloatProgressModel",
            "_view_count": null,
            "_view_module": "@jupyter-widgets/controls",
            "_view_module_version": "1.5.0",
            "_view_name": "ProgressView",
            "bar_style": "success",
            "description": "",
            "description_tooltip": null,
            "layout": "IPY_MODEL_747623c9abe14213892b0422384df581",
            "max": 231508,
            "min": 0,
            "orientation": "horizontal",
            "style": "IPY_MODEL_edf7b7236d984ad79a37c2170c351170",
            "value": 231508
          }
        },
        "b66b7d991fa045c78e95eac84c4d3990": {
          "model_module": "@jupyter-widgets/controls",
          "model_name": "HTMLModel",
          "model_module_version": "1.5.0",
          "state": {
            "_dom_classes": [],
            "_model_module": "@jupyter-widgets/controls",
            "_model_module_version": "1.5.0",
            "_model_name": "HTMLModel",
            "_view_count": null,
            "_view_module": "@jupyter-widgets/controls",
            "_view_module_version": "1.5.0",
            "_view_name": "HTMLView",
            "description": "",
            "description_tooltip": null,
            "layout": "IPY_MODEL_9faf7c4eba984ccb9220a85283a6785b",
            "placeholder": "​",
            "style": "IPY_MODEL_ca2732dce613438f8f2365857400a0c8",
            "value": " 232k/232k [00:00&lt;00:00, 1.33MB/s]"
          }
        },
        "11e32ce485b145ef8964f7d0a1e43ba2": {
          "model_module": "@jupyter-widgets/base",
          "model_name": "LayoutModel",
          "model_module_version": "1.2.0",
          "state": {
            "_model_module": "@jupyter-widgets/base",
            "_model_module_version": "1.2.0",
            "_model_name": "LayoutModel",
            "_view_count": null,
            "_view_module": "@jupyter-widgets/base",
            "_view_module_version": "1.2.0",
            "_view_name": "LayoutView",
            "align_content": null,
            "align_items": null,
            "align_self": null,
            "border": null,
            "bottom": null,
            "display": null,
            "flex": null,
            "flex_flow": null,
            "grid_area": null,
            "grid_auto_columns": null,
            "grid_auto_flow": null,
            "grid_auto_rows": null,
            "grid_column": null,
            "grid_gap": null,
            "grid_row": null,
            "grid_template_areas": null,
            "grid_template_columns": null,
            "grid_template_rows": null,
            "height": null,
            "justify_content": null,
            "justify_items": null,
            "left": null,
            "margin": null,
            "max_height": null,
            "max_width": null,
            "min_height": null,
            "min_width": null,
            "object_fit": null,
            "object_position": null,
            "order": null,
            "overflow": null,
            "overflow_x": null,
            "overflow_y": null,
            "padding": null,
            "right": null,
            "top": null,
            "visibility": null,
            "width": null
          }
        },
        "3cf3c6cd87ba4fcb91ac85e2e7ae9bea": {
          "model_module": "@jupyter-widgets/base",
          "model_name": "LayoutModel",
          "model_module_version": "1.2.0",
          "state": {
            "_model_module": "@jupyter-widgets/base",
            "_model_module_version": "1.2.0",
            "_model_name": "LayoutModel",
            "_view_count": null,
            "_view_module": "@jupyter-widgets/base",
            "_view_module_version": "1.2.0",
            "_view_name": "LayoutView",
            "align_content": null,
            "align_items": null,
            "align_self": null,
            "border": null,
            "bottom": null,
            "display": null,
            "flex": null,
            "flex_flow": null,
            "grid_area": null,
            "grid_auto_columns": null,
            "grid_auto_flow": null,
            "grid_auto_rows": null,
            "grid_column": null,
            "grid_gap": null,
            "grid_row": null,
            "grid_template_areas": null,
            "grid_template_columns": null,
            "grid_template_rows": null,
            "height": null,
            "justify_content": null,
            "justify_items": null,
            "left": null,
            "margin": null,
            "max_height": null,
            "max_width": null,
            "min_height": null,
            "min_width": null,
            "object_fit": null,
            "object_position": null,
            "order": null,
            "overflow": null,
            "overflow_x": null,
            "overflow_y": null,
            "padding": null,
            "right": null,
            "top": null,
            "visibility": null,
            "width": null
          }
        },
        "50936a0b8ed345dcaf621ca5b28798b1": {
          "model_module": "@jupyter-widgets/controls",
          "model_name": "DescriptionStyleModel",
          "model_module_version": "1.5.0",
          "state": {
            "_model_module": "@jupyter-widgets/controls",
            "_model_module_version": "1.5.0",
            "_model_name": "DescriptionStyleModel",
            "_view_count": null,
            "_view_module": "@jupyter-widgets/base",
            "_view_module_version": "1.2.0",
            "_view_name": "StyleView",
            "description_width": ""
          }
        },
        "747623c9abe14213892b0422384df581": {
          "model_module": "@jupyter-widgets/base",
          "model_name": "LayoutModel",
          "model_module_version": "1.2.0",
          "state": {
            "_model_module": "@jupyter-widgets/base",
            "_model_module_version": "1.2.0",
            "_model_name": "LayoutModel",
            "_view_count": null,
            "_view_module": "@jupyter-widgets/base",
            "_view_module_version": "1.2.0",
            "_view_name": "LayoutView",
            "align_content": null,
            "align_items": null,
            "align_self": null,
            "border": null,
            "bottom": null,
            "display": null,
            "flex": null,
            "flex_flow": null,
            "grid_area": null,
            "grid_auto_columns": null,
            "grid_auto_flow": null,
            "grid_auto_rows": null,
            "grid_column": null,
            "grid_gap": null,
            "grid_row": null,
            "grid_template_areas": null,
            "grid_template_columns": null,
            "grid_template_rows": null,
            "height": null,
            "justify_content": null,
            "justify_items": null,
            "left": null,
            "margin": null,
            "max_height": null,
            "max_width": null,
            "min_height": null,
            "min_width": null,
            "object_fit": null,
            "object_position": null,
            "order": null,
            "overflow": null,
            "overflow_x": null,
            "overflow_y": null,
            "padding": null,
            "right": null,
            "top": null,
            "visibility": null,
            "width": null
          }
        },
        "edf7b7236d984ad79a37c2170c351170": {
          "model_module": "@jupyter-widgets/controls",
          "model_name": "ProgressStyleModel",
          "model_module_version": "1.5.0",
          "state": {
            "_model_module": "@jupyter-widgets/controls",
            "_model_module_version": "1.5.0",
            "_model_name": "ProgressStyleModel",
            "_view_count": null,
            "_view_module": "@jupyter-widgets/base",
            "_view_module_version": "1.2.0",
            "_view_name": "StyleView",
            "bar_color": null,
            "description_width": ""
          }
        },
        "9faf7c4eba984ccb9220a85283a6785b": {
          "model_module": "@jupyter-widgets/base",
          "model_name": "LayoutModel",
          "model_module_version": "1.2.0",
          "state": {
            "_model_module": "@jupyter-widgets/base",
            "_model_module_version": "1.2.0",
            "_model_name": "LayoutModel",
            "_view_count": null,
            "_view_module": "@jupyter-widgets/base",
            "_view_module_version": "1.2.0",
            "_view_name": "LayoutView",
            "align_content": null,
            "align_items": null,
            "align_self": null,
            "border": null,
            "bottom": null,
            "display": null,
            "flex": null,
            "flex_flow": null,
            "grid_area": null,
            "grid_auto_columns": null,
            "grid_auto_flow": null,
            "grid_auto_rows": null,
            "grid_column": null,
            "grid_gap": null,
            "grid_row": null,
            "grid_template_areas": null,
            "grid_template_columns": null,
            "grid_template_rows": null,
            "height": null,
            "justify_content": null,
            "justify_items": null,
            "left": null,
            "margin": null,
            "max_height": null,
            "max_width": null,
            "min_height": null,
            "min_width": null,
            "object_fit": null,
            "object_position": null,
            "order": null,
            "overflow": null,
            "overflow_x": null,
            "overflow_y": null,
            "padding": null,
            "right": null,
            "top": null,
            "visibility": null,
            "width": null
          }
        },
        "ca2732dce613438f8f2365857400a0c8": {
          "model_module": "@jupyter-widgets/controls",
          "model_name": "DescriptionStyleModel",
          "model_module_version": "1.5.0",
          "state": {
            "_model_module": "@jupyter-widgets/controls",
            "_model_module_version": "1.5.0",
            "_model_name": "DescriptionStyleModel",
            "_view_count": null,
            "_view_module": "@jupyter-widgets/base",
            "_view_module_version": "1.2.0",
            "_view_name": "StyleView",
            "description_width": ""
          }
        },
        "a1035cab5dc845a6ab77316ab2cfa03e": {
          "model_module": "@jupyter-widgets/controls",
          "model_name": "HBoxModel",
          "model_module_version": "1.5.0",
          "state": {
            "_dom_classes": [],
            "_model_module": "@jupyter-widgets/controls",
            "_model_module_version": "1.5.0",
            "_model_name": "HBoxModel",
            "_view_count": null,
            "_view_module": "@jupyter-widgets/controls",
            "_view_module_version": "1.5.0",
            "_view_name": "HBoxView",
            "box_style": "",
            "children": [
              "IPY_MODEL_befca395ae624e22971cd823070cec7c",
              "IPY_MODEL_5dceed9f7deb4af8a6b6d753189cbee5",
              "IPY_MODEL_509f839be23c42539babfa0b01bea9e9"
            ],
            "layout": "IPY_MODEL_3a32c03c765349c3af0d698504730006"
          }
        },
        "befca395ae624e22971cd823070cec7c": {
          "model_module": "@jupyter-widgets/controls",
          "model_name": "HTMLModel",
          "model_module_version": "1.5.0",
          "state": {
            "_dom_classes": [],
            "_model_module": "@jupyter-widgets/controls",
            "_model_module_version": "1.5.0",
            "_model_name": "HTMLModel",
            "_view_count": null,
            "_view_module": "@jupyter-widgets/controls",
            "_view_module_version": "1.5.0",
            "_view_name": "HTMLView",
            "description": "",
            "description_tooltip": null,
            "layout": "IPY_MODEL_1828309fc6e04d8e892efc023c7e6254",
            "placeholder": "​",
            "style": "IPY_MODEL_469099b413294aad829e4863f9d98200",
            "value": "tokenizer.json: 100%"
          }
        },
        "5dceed9f7deb4af8a6b6d753189cbee5": {
          "model_module": "@jupyter-widgets/controls",
          "model_name": "FloatProgressModel",
          "model_module_version": "1.5.0",
          "state": {
            "_dom_classes": [],
            "_model_module": "@jupyter-widgets/controls",
            "_model_module_version": "1.5.0",
            "_model_name": "FloatProgressModel",
            "_view_count": null,
            "_view_module": "@jupyter-widgets/controls",
            "_view_module_version": "1.5.0",
            "_view_name": "ProgressView",
            "bar_style": "success",
            "description": "",
            "description_tooltip": null,
            "layout": "IPY_MODEL_48bfbcee245e4540a32fb556575da664",
            "max": 466062,
            "min": 0,
            "orientation": "horizontal",
            "style": "IPY_MODEL_8cba2d95b89e4faea7d8452b22ad6b8c",
            "value": 466062
          }
        },
        "509f839be23c42539babfa0b01bea9e9": {
          "model_module": "@jupyter-widgets/controls",
          "model_name": "HTMLModel",
          "model_module_version": "1.5.0",
          "state": {
            "_dom_classes": [],
            "_model_module": "@jupyter-widgets/controls",
            "_model_module_version": "1.5.0",
            "_model_name": "HTMLModel",
            "_view_count": null,
            "_view_module": "@jupyter-widgets/controls",
            "_view_module_version": "1.5.0",
            "_view_name": "HTMLView",
            "description": "",
            "description_tooltip": null,
            "layout": "IPY_MODEL_b78bce316105416a9eea681ba80b6934",
            "placeholder": "​",
            "style": "IPY_MODEL_2e1aeda5f6c7449da2798faebdab50e9",
            "value": " 466k/466k [00:00&lt;00:00, 2.48MB/s]"
          }
        },
        "3a32c03c765349c3af0d698504730006": {
          "model_module": "@jupyter-widgets/base",
          "model_name": "LayoutModel",
          "model_module_version": "1.2.0",
          "state": {
            "_model_module": "@jupyter-widgets/base",
            "_model_module_version": "1.2.0",
            "_model_name": "LayoutModel",
            "_view_count": null,
            "_view_module": "@jupyter-widgets/base",
            "_view_module_version": "1.2.0",
            "_view_name": "LayoutView",
            "align_content": null,
            "align_items": null,
            "align_self": null,
            "border": null,
            "bottom": null,
            "display": null,
            "flex": null,
            "flex_flow": null,
            "grid_area": null,
            "grid_auto_columns": null,
            "grid_auto_flow": null,
            "grid_auto_rows": null,
            "grid_column": null,
            "grid_gap": null,
            "grid_row": null,
            "grid_template_areas": null,
            "grid_template_columns": null,
            "grid_template_rows": null,
            "height": null,
            "justify_content": null,
            "justify_items": null,
            "left": null,
            "margin": null,
            "max_height": null,
            "max_width": null,
            "min_height": null,
            "min_width": null,
            "object_fit": null,
            "object_position": null,
            "order": null,
            "overflow": null,
            "overflow_x": null,
            "overflow_y": null,
            "padding": null,
            "right": null,
            "top": null,
            "visibility": null,
            "width": null
          }
        },
        "1828309fc6e04d8e892efc023c7e6254": {
          "model_module": "@jupyter-widgets/base",
          "model_name": "LayoutModel",
          "model_module_version": "1.2.0",
          "state": {
            "_model_module": "@jupyter-widgets/base",
            "_model_module_version": "1.2.0",
            "_model_name": "LayoutModel",
            "_view_count": null,
            "_view_module": "@jupyter-widgets/base",
            "_view_module_version": "1.2.0",
            "_view_name": "LayoutView",
            "align_content": null,
            "align_items": null,
            "align_self": null,
            "border": null,
            "bottom": null,
            "display": null,
            "flex": null,
            "flex_flow": null,
            "grid_area": null,
            "grid_auto_columns": null,
            "grid_auto_flow": null,
            "grid_auto_rows": null,
            "grid_column": null,
            "grid_gap": null,
            "grid_row": null,
            "grid_template_areas": null,
            "grid_template_columns": null,
            "grid_template_rows": null,
            "height": null,
            "justify_content": null,
            "justify_items": null,
            "left": null,
            "margin": null,
            "max_height": null,
            "max_width": null,
            "min_height": null,
            "min_width": null,
            "object_fit": null,
            "object_position": null,
            "order": null,
            "overflow": null,
            "overflow_x": null,
            "overflow_y": null,
            "padding": null,
            "right": null,
            "top": null,
            "visibility": null,
            "width": null
          }
        },
        "469099b413294aad829e4863f9d98200": {
          "model_module": "@jupyter-widgets/controls",
          "model_name": "DescriptionStyleModel",
          "model_module_version": "1.5.0",
          "state": {
            "_model_module": "@jupyter-widgets/controls",
            "_model_module_version": "1.5.0",
            "_model_name": "DescriptionStyleModel",
            "_view_count": null,
            "_view_module": "@jupyter-widgets/base",
            "_view_module_version": "1.2.0",
            "_view_name": "StyleView",
            "description_width": ""
          }
        },
        "48bfbcee245e4540a32fb556575da664": {
          "model_module": "@jupyter-widgets/base",
          "model_name": "LayoutModel",
          "model_module_version": "1.2.0",
          "state": {
            "_model_module": "@jupyter-widgets/base",
            "_model_module_version": "1.2.0",
            "_model_name": "LayoutModel",
            "_view_count": null,
            "_view_module": "@jupyter-widgets/base",
            "_view_module_version": "1.2.0",
            "_view_name": "LayoutView",
            "align_content": null,
            "align_items": null,
            "align_self": null,
            "border": null,
            "bottom": null,
            "display": null,
            "flex": null,
            "flex_flow": null,
            "grid_area": null,
            "grid_auto_columns": null,
            "grid_auto_flow": null,
            "grid_auto_rows": null,
            "grid_column": null,
            "grid_gap": null,
            "grid_row": null,
            "grid_template_areas": null,
            "grid_template_columns": null,
            "grid_template_rows": null,
            "height": null,
            "justify_content": null,
            "justify_items": null,
            "left": null,
            "margin": null,
            "max_height": null,
            "max_width": null,
            "min_height": null,
            "min_width": null,
            "object_fit": null,
            "object_position": null,
            "order": null,
            "overflow": null,
            "overflow_x": null,
            "overflow_y": null,
            "padding": null,
            "right": null,
            "top": null,
            "visibility": null,
            "width": null
          }
        },
        "8cba2d95b89e4faea7d8452b22ad6b8c": {
          "model_module": "@jupyter-widgets/controls",
          "model_name": "ProgressStyleModel",
          "model_module_version": "1.5.0",
          "state": {
            "_model_module": "@jupyter-widgets/controls",
            "_model_module_version": "1.5.0",
            "_model_name": "ProgressStyleModel",
            "_view_count": null,
            "_view_module": "@jupyter-widgets/base",
            "_view_module_version": "1.2.0",
            "_view_name": "StyleView",
            "bar_color": null,
            "description_width": ""
          }
        },
        "b78bce316105416a9eea681ba80b6934": {
          "model_module": "@jupyter-widgets/base",
          "model_name": "LayoutModel",
          "model_module_version": "1.2.0",
          "state": {
            "_model_module": "@jupyter-widgets/base",
            "_model_module_version": "1.2.0",
            "_model_name": "LayoutModel",
            "_view_count": null,
            "_view_module": "@jupyter-widgets/base",
            "_view_module_version": "1.2.0",
            "_view_name": "LayoutView",
            "align_content": null,
            "align_items": null,
            "align_self": null,
            "border": null,
            "bottom": null,
            "display": null,
            "flex": null,
            "flex_flow": null,
            "grid_area": null,
            "grid_auto_columns": null,
            "grid_auto_flow": null,
            "grid_auto_rows": null,
            "grid_column": null,
            "grid_gap": null,
            "grid_row": null,
            "grid_template_areas": null,
            "grid_template_columns": null,
            "grid_template_rows": null,
            "height": null,
            "justify_content": null,
            "justify_items": null,
            "left": null,
            "margin": null,
            "max_height": null,
            "max_width": null,
            "min_height": null,
            "min_width": null,
            "object_fit": null,
            "object_position": null,
            "order": null,
            "overflow": null,
            "overflow_x": null,
            "overflow_y": null,
            "padding": null,
            "right": null,
            "top": null,
            "visibility": null,
            "width": null
          }
        },
        "2e1aeda5f6c7449da2798faebdab50e9": {
          "model_module": "@jupyter-widgets/controls",
          "model_name": "DescriptionStyleModel",
          "model_module_version": "1.5.0",
          "state": {
            "_model_module": "@jupyter-widgets/controls",
            "_model_module_version": "1.5.0",
            "_model_name": "DescriptionStyleModel",
            "_view_count": null,
            "_view_module": "@jupyter-widgets/base",
            "_view_module_version": "1.2.0",
            "_view_name": "StyleView",
            "description_width": ""
          }
        },
        "3166bac4ecbe46629307f33e327ed9e4": {
          "model_module": "@jupyter-widgets/controls",
          "model_name": "HBoxModel",
          "model_module_version": "1.5.0",
          "state": {
            "_dom_classes": [],
            "_model_module": "@jupyter-widgets/controls",
            "_model_module_version": "1.5.0",
            "_model_name": "HBoxModel",
            "_view_count": null,
            "_view_module": "@jupyter-widgets/controls",
            "_view_module_version": "1.5.0",
            "_view_name": "HBoxView",
            "box_style": "",
            "children": [
              "IPY_MODEL_468689b765884c0db7c448cbcfe81aa7",
              "IPY_MODEL_f1f36fdc5f104e1d9ce6668a750384b7",
              "IPY_MODEL_762169f3e6a44d929cf3d977f5f4cbb9"
            ],
            "layout": "IPY_MODEL_9994b41f272f44ab8cde5b904734a890"
          }
        },
        "468689b765884c0db7c448cbcfe81aa7": {
          "model_module": "@jupyter-widgets/controls",
          "model_name": "HTMLModel",
          "model_module_version": "1.5.0",
          "state": {
            "_dom_classes": [],
            "_model_module": "@jupyter-widgets/controls",
            "_model_module_version": "1.5.0",
            "_model_name": "HTMLModel",
            "_view_count": null,
            "_view_module": "@jupyter-widgets/controls",
            "_view_module_version": "1.5.0",
            "_view_name": "HTMLView",
            "description": "",
            "description_tooltip": null,
            "layout": "IPY_MODEL_001ace3c61e9484382eb6a33d3dd7fb6",
            "placeholder": "​",
            "style": "IPY_MODEL_f028c22e7bea46e8909983d3e1ab7d28",
            "value": "config.json: 100%"
          }
        },
        "f1f36fdc5f104e1d9ce6668a750384b7": {
          "model_module": "@jupyter-widgets/controls",
          "model_name": "FloatProgressModel",
          "model_module_version": "1.5.0",
          "state": {
            "_dom_classes": [],
            "_model_module": "@jupyter-widgets/controls",
            "_model_module_version": "1.5.0",
            "_model_name": "FloatProgressModel",
            "_view_count": null,
            "_view_module": "@jupyter-widgets/controls",
            "_view_module_version": "1.5.0",
            "_view_name": "ProgressView",
            "bar_style": "success",
            "description": "",
            "description_tooltip": null,
            "layout": "IPY_MODEL_47eeb80da6c8427d905fe812512a8e9e",
            "max": 483,
            "min": 0,
            "orientation": "horizontal",
            "style": "IPY_MODEL_90dc4f08fb9140da8491894969e77133",
            "value": 483
          }
        },
        "762169f3e6a44d929cf3d977f5f4cbb9": {
          "model_module": "@jupyter-widgets/controls",
          "model_name": "HTMLModel",
          "model_module_version": "1.5.0",
          "state": {
            "_dom_classes": [],
            "_model_module": "@jupyter-widgets/controls",
            "_model_module_version": "1.5.0",
            "_model_name": "HTMLModel",
            "_view_count": null,
            "_view_module": "@jupyter-widgets/controls",
            "_view_module_version": "1.5.0",
            "_view_name": "HTMLView",
            "description": "",
            "description_tooltip": null,
            "layout": "IPY_MODEL_4301bcf358004457be6553c3eaf61e55",
            "placeholder": "​",
            "style": "IPY_MODEL_98a1b44daae9454c9808897453dd6c6c",
            "value": " 483/483 [00:00&lt;00:00, 3.90kB/s]"
          }
        },
        "9994b41f272f44ab8cde5b904734a890": {
          "model_module": "@jupyter-widgets/base",
          "model_name": "LayoutModel",
          "model_module_version": "1.2.0",
          "state": {
            "_model_module": "@jupyter-widgets/base",
            "_model_module_version": "1.2.0",
            "_model_name": "LayoutModel",
            "_view_count": null,
            "_view_module": "@jupyter-widgets/base",
            "_view_module_version": "1.2.0",
            "_view_name": "LayoutView",
            "align_content": null,
            "align_items": null,
            "align_self": null,
            "border": null,
            "bottom": null,
            "display": null,
            "flex": null,
            "flex_flow": null,
            "grid_area": null,
            "grid_auto_columns": null,
            "grid_auto_flow": null,
            "grid_auto_rows": null,
            "grid_column": null,
            "grid_gap": null,
            "grid_row": null,
            "grid_template_areas": null,
            "grid_template_columns": null,
            "grid_template_rows": null,
            "height": null,
            "justify_content": null,
            "justify_items": null,
            "left": null,
            "margin": null,
            "max_height": null,
            "max_width": null,
            "min_height": null,
            "min_width": null,
            "object_fit": null,
            "object_position": null,
            "order": null,
            "overflow": null,
            "overflow_x": null,
            "overflow_y": null,
            "padding": null,
            "right": null,
            "top": null,
            "visibility": null,
            "width": null
          }
        },
        "001ace3c61e9484382eb6a33d3dd7fb6": {
          "model_module": "@jupyter-widgets/base",
          "model_name": "LayoutModel",
          "model_module_version": "1.2.0",
          "state": {
            "_model_module": "@jupyter-widgets/base",
            "_model_module_version": "1.2.0",
            "_model_name": "LayoutModel",
            "_view_count": null,
            "_view_module": "@jupyter-widgets/base",
            "_view_module_version": "1.2.0",
            "_view_name": "LayoutView",
            "align_content": null,
            "align_items": null,
            "align_self": null,
            "border": null,
            "bottom": null,
            "display": null,
            "flex": null,
            "flex_flow": null,
            "grid_area": null,
            "grid_auto_columns": null,
            "grid_auto_flow": null,
            "grid_auto_rows": null,
            "grid_column": null,
            "grid_gap": null,
            "grid_row": null,
            "grid_template_areas": null,
            "grid_template_columns": null,
            "grid_template_rows": null,
            "height": null,
            "justify_content": null,
            "justify_items": null,
            "left": null,
            "margin": null,
            "max_height": null,
            "max_width": null,
            "min_height": null,
            "min_width": null,
            "object_fit": null,
            "object_position": null,
            "order": null,
            "overflow": null,
            "overflow_x": null,
            "overflow_y": null,
            "padding": null,
            "right": null,
            "top": null,
            "visibility": null,
            "width": null
          }
        },
        "f028c22e7bea46e8909983d3e1ab7d28": {
          "model_module": "@jupyter-widgets/controls",
          "model_name": "DescriptionStyleModel",
          "model_module_version": "1.5.0",
          "state": {
            "_model_module": "@jupyter-widgets/controls",
            "_model_module_version": "1.5.0",
            "_model_name": "DescriptionStyleModel",
            "_view_count": null,
            "_view_module": "@jupyter-widgets/base",
            "_view_module_version": "1.2.0",
            "_view_name": "StyleView",
            "description_width": ""
          }
        },
        "47eeb80da6c8427d905fe812512a8e9e": {
          "model_module": "@jupyter-widgets/base",
          "model_name": "LayoutModel",
          "model_module_version": "1.2.0",
          "state": {
            "_model_module": "@jupyter-widgets/base",
            "_model_module_version": "1.2.0",
            "_model_name": "LayoutModel",
            "_view_count": null,
            "_view_module": "@jupyter-widgets/base",
            "_view_module_version": "1.2.0",
            "_view_name": "LayoutView",
            "align_content": null,
            "align_items": null,
            "align_self": null,
            "border": null,
            "bottom": null,
            "display": null,
            "flex": null,
            "flex_flow": null,
            "grid_area": null,
            "grid_auto_columns": null,
            "grid_auto_flow": null,
            "grid_auto_rows": null,
            "grid_column": null,
            "grid_gap": null,
            "grid_row": null,
            "grid_template_areas": null,
            "grid_template_columns": null,
            "grid_template_rows": null,
            "height": null,
            "justify_content": null,
            "justify_items": null,
            "left": null,
            "margin": null,
            "max_height": null,
            "max_width": null,
            "min_height": null,
            "min_width": null,
            "object_fit": null,
            "object_position": null,
            "order": null,
            "overflow": null,
            "overflow_x": null,
            "overflow_y": null,
            "padding": null,
            "right": null,
            "top": null,
            "visibility": null,
            "width": null
          }
        },
        "90dc4f08fb9140da8491894969e77133": {
          "model_module": "@jupyter-widgets/controls",
          "model_name": "ProgressStyleModel",
          "model_module_version": "1.5.0",
          "state": {
            "_model_module": "@jupyter-widgets/controls",
            "_model_module_version": "1.5.0",
            "_model_name": "ProgressStyleModel",
            "_view_count": null,
            "_view_module": "@jupyter-widgets/base",
            "_view_module_version": "1.2.0",
            "_view_name": "StyleView",
            "bar_color": null,
            "description_width": ""
          }
        },
        "4301bcf358004457be6553c3eaf61e55": {
          "model_module": "@jupyter-widgets/base",
          "model_name": "LayoutModel",
          "model_module_version": "1.2.0",
          "state": {
            "_model_module": "@jupyter-widgets/base",
            "_model_module_version": "1.2.0",
            "_model_name": "LayoutModel",
            "_view_count": null,
            "_view_module": "@jupyter-widgets/base",
            "_view_module_version": "1.2.0",
            "_view_name": "LayoutView",
            "align_content": null,
            "align_items": null,
            "align_self": null,
            "border": null,
            "bottom": null,
            "display": null,
            "flex": null,
            "flex_flow": null,
            "grid_area": null,
            "grid_auto_columns": null,
            "grid_auto_flow": null,
            "grid_auto_rows": null,
            "grid_column": null,
            "grid_gap": null,
            "grid_row": null,
            "grid_template_areas": null,
            "grid_template_columns": null,
            "grid_template_rows": null,
            "height": null,
            "justify_content": null,
            "justify_items": null,
            "left": null,
            "margin": null,
            "max_height": null,
            "max_width": null,
            "min_height": null,
            "min_width": null,
            "object_fit": null,
            "object_position": null,
            "order": null,
            "overflow": null,
            "overflow_x": null,
            "overflow_y": null,
            "padding": null,
            "right": null,
            "top": null,
            "visibility": null,
            "width": null
          }
        },
        "98a1b44daae9454c9808897453dd6c6c": {
          "model_module": "@jupyter-widgets/controls",
          "model_name": "DescriptionStyleModel",
          "model_module_version": "1.5.0",
          "state": {
            "_model_module": "@jupyter-widgets/controls",
            "_model_module_version": "1.5.0",
            "_model_name": "DescriptionStyleModel",
            "_view_count": null,
            "_view_module": "@jupyter-widgets/base",
            "_view_module_version": "1.2.0",
            "_view_name": "StyleView",
            "description_width": ""
          }
        },
        "0658a8950e9e411f896a66444e97a882": {
          "model_module": "@jupyter-widgets/controls",
          "model_name": "HBoxModel",
          "model_module_version": "1.5.0",
          "state": {
            "_dom_classes": [],
            "_model_module": "@jupyter-widgets/controls",
            "_model_module_version": "1.5.0",
            "_model_name": "HBoxModel",
            "_view_count": null,
            "_view_module": "@jupyter-widgets/controls",
            "_view_module_version": "1.5.0",
            "_view_name": "HBoxView",
            "box_style": "",
            "children": [
              "IPY_MODEL_8ec13cdcc96c429b9656fb1742bb9800",
              "IPY_MODEL_e1ef62df07de4547a8ee835f76fa9383",
              "IPY_MODEL_5a291834b8814282a6bba6737a1078c2"
            ],
            "layout": "IPY_MODEL_a4d36837477546d8a0428f442b7f7362"
          }
        },
        "8ec13cdcc96c429b9656fb1742bb9800": {
          "model_module": "@jupyter-widgets/controls",
          "model_name": "HTMLModel",
          "model_module_version": "1.5.0",
          "state": {
            "_dom_classes": [],
            "_model_module": "@jupyter-widgets/controls",
            "_model_module_version": "1.5.0",
            "_model_name": "HTMLModel",
            "_view_count": null,
            "_view_module": "@jupyter-widgets/controls",
            "_view_module_version": "1.5.0",
            "_view_name": "HTMLView",
            "description": "",
            "description_tooltip": null,
            "layout": "IPY_MODEL_58a810af1faa4a04a7bf135275ecbef4",
            "placeholder": "​",
            "style": "IPY_MODEL_1fb33051462a406b9c943a121765f3cc",
            "value": "model.safetensors: 100%"
          }
        },
        "e1ef62df07de4547a8ee835f76fa9383": {
          "model_module": "@jupyter-widgets/controls",
          "model_name": "FloatProgressModel",
          "model_module_version": "1.5.0",
          "state": {
            "_dom_classes": [],
            "_model_module": "@jupyter-widgets/controls",
            "_model_module_version": "1.5.0",
            "_model_name": "FloatProgressModel",
            "_view_count": null,
            "_view_module": "@jupyter-widgets/controls",
            "_view_module_version": "1.5.0",
            "_view_name": "ProgressView",
            "bar_style": "success",
            "description": "",
            "description_tooltip": null,
            "layout": "IPY_MODEL_0f2ff41081d249cfb908e459341f0168",
            "max": 267954768,
            "min": 0,
            "orientation": "horizontal",
            "style": "IPY_MODEL_9aa48a30413e4846a89eaea76e5b8229",
            "value": 267954768
          }
        },
        "5a291834b8814282a6bba6737a1078c2": {
          "model_module": "@jupyter-widgets/controls",
          "model_name": "HTMLModel",
          "model_module_version": "1.5.0",
          "state": {
            "_dom_classes": [],
            "_model_module": "@jupyter-widgets/controls",
            "_model_module_version": "1.5.0",
            "_model_name": "HTMLModel",
            "_view_count": null,
            "_view_module": "@jupyter-widgets/controls",
            "_view_module_version": "1.5.0",
            "_view_name": "HTMLView",
            "description": "",
            "description_tooltip": null,
            "layout": "IPY_MODEL_10751755b99e48e0a0e95d419797dd09",
            "placeholder": "​",
            "style": "IPY_MODEL_b5bab1b4cca7428d8a8a8e34f5af42b5",
            "value": " 268M/268M [00:06&lt;00:00, 36.3MB/s]"
          }
        },
        "a4d36837477546d8a0428f442b7f7362": {
          "model_module": "@jupyter-widgets/base",
          "model_name": "LayoutModel",
          "model_module_version": "1.2.0",
          "state": {
            "_model_module": "@jupyter-widgets/base",
            "_model_module_version": "1.2.0",
            "_model_name": "LayoutModel",
            "_view_count": null,
            "_view_module": "@jupyter-widgets/base",
            "_view_module_version": "1.2.0",
            "_view_name": "LayoutView",
            "align_content": null,
            "align_items": null,
            "align_self": null,
            "border": null,
            "bottom": null,
            "display": null,
            "flex": null,
            "flex_flow": null,
            "grid_area": null,
            "grid_auto_columns": null,
            "grid_auto_flow": null,
            "grid_auto_rows": null,
            "grid_column": null,
            "grid_gap": null,
            "grid_row": null,
            "grid_template_areas": null,
            "grid_template_columns": null,
            "grid_template_rows": null,
            "height": null,
            "justify_content": null,
            "justify_items": null,
            "left": null,
            "margin": null,
            "max_height": null,
            "max_width": null,
            "min_height": null,
            "min_width": null,
            "object_fit": null,
            "object_position": null,
            "order": null,
            "overflow": null,
            "overflow_x": null,
            "overflow_y": null,
            "padding": null,
            "right": null,
            "top": null,
            "visibility": null,
            "width": null
          }
        },
        "58a810af1faa4a04a7bf135275ecbef4": {
          "model_module": "@jupyter-widgets/base",
          "model_name": "LayoutModel",
          "model_module_version": "1.2.0",
          "state": {
            "_model_module": "@jupyter-widgets/base",
            "_model_module_version": "1.2.0",
            "_model_name": "LayoutModel",
            "_view_count": null,
            "_view_module": "@jupyter-widgets/base",
            "_view_module_version": "1.2.0",
            "_view_name": "LayoutView",
            "align_content": null,
            "align_items": null,
            "align_self": null,
            "border": null,
            "bottom": null,
            "display": null,
            "flex": null,
            "flex_flow": null,
            "grid_area": null,
            "grid_auto_columns": null,
            "grid_auto_flow": null,
            "grid_auto_rows": null,
            "grid_column": null,
            "grid_gap": null,
            "grid_row": null,
            "grid_template_areas": null,
            "grid_template_columns": null,
            "grid_template_rows": null,
            "height": null,
            "justify_content": null,
            "justify_items": null,
            "left": null,
            "margin": null,
            "max_height": null,
            "max_width": null,
            "min_height": null,
            "min_width": null,
            "object_fit": null,
            "object_position": null,
            "order": null,
            "overflow": null,
            "overflow_x": null,
            "overflow_y": null,
            "padding": null,
            "right": null,
            "top": null,
            "visibility": null,
            "width": null
          }
        },
        "1fb33051462a406b9c943a121765f3cc": {
          "model_module": "@jupyter-widgets/controls",
          "model_name": "DescriptionStyleModel",
          "model_module_version": "1.5.0",
          "state": {
            "_model_module": "@jupyter-widgets/controls",
            "_model_module_version": "1.5.0",
            "_model_name": "DescriptionStyleModel",
            "_view_count": null,
            "_view_module": "@jupyter-widgets/base",
            "_view_module_version": "1.2.0",
            "_view_name": "StyleView",
            "description_width": ""
          }
        },
        "0f2ff41081d249cfb908e459341f0168": {
          "model_module": "@jupyter-widgets/base",
          "model_name": "LayoutModel",
          "model_module_version": "1.2.0",
          "state": {
            "_model_module": "@jupyter-widgets/base",
            "_model_module_version": "1.2.0",
            "_model_name": "LayoutModel",
            "_view_count": null,
            "_view_module": "@jupyter-widgets/base",
            "_view_module_version": "1.2.0",
            "_view_name": "LayoutView",
            "align_content": null,
            "align_items": null,
            "align_self": null,
            "border": null,
            "bottom": null,
            "display": null,
            "flex": null,
            "flex_flow": null,
            "grid_area": null,
            "grid_auto_columns": null,
            "grid_auto_flow": null,
            "grid_auto_rows": null,
            "grid_column": null,
            "grid_gap": null,
            "grid_row": null,
            "grid_template_areas": null,
            "grid_template_columns": null,
            "grid_template_rows": null,
            "height": null,
            "justify_content": null,
            "justify_items": null,
            "left": null,
            "margin": null,
            "max_height": null,
            "max_width": null,
            "min_height": null,
            "min_width": null,
            "object_fit": null,
            "object_position": null,
            "order": null,
            "overflow": null,
            "overflow_x": null,
            "overflow_y": null,
            "padding": null,
            "right": null,
            "top": null,
            "visibility": null,
            "width": null
          }
        },
        "9aa48a30413e4846a89eaea76e5b8229": {
          "model_module": "@jupyter-widgets/controls",
          "model_name": "ProgressStyleModel",
          "model_module_version": "1.5.0",
          "state": {
            "_model_module": "@jupyter-widgets/controls",
            "_model_module_version": "1.5.0",
            "_model_name": "ProgressStyleModel",
            "_view_count": null,
            "_view_module": "@jupyter-widgets/base",
            "_view_module_version": "1.2.0",
            "_view_name": "StyleView",
            "bar_color": null,
            "description_width": ""
          }
        },
        "10751755b99e48e0a0e95d419797dd09": {
          "model_module": "@jupyter-widgets/base",
          "model_name": "LayoutModel",
          "model_module_version": "1.2.0",
          "state": {
            "_model_module": "@jupyter-widgets/base",
            "_model_module_version": "1.2.0",
            "_model_name": "LayoutModel",
            "_view_count": null,
            "_view_module": "@jupyter-widgets/base",
            "_view_module_version": "1.2.0",
            "_view_name": "LayoutView",
            "align_content": null,
            "align_items": null,
            "align_self": null,
            "border": null,
            "bottom": null,
            "display": null,
            "flex": null,
            "flex_flow": null,
            "grid_area": null,
            "grid_auto_columns": null,
            "grid_auto_flow": null,
            "grid_auto_rows": null,
            "grid_column": null,
            "grid_gap": null,
            "grid_row": null,
            "grid_template_areas": null,
            "grid_template_columns": null,
            "grid_template_rows": null,
            "height": null,
            "justify_content": null,
            "justify_items": null,
            "left": null,
            "margin": null,
            "max_height": null,
            "max_width": null,
            "min_height": null,
            "min_width": null,
            "object_fit": null,
            "object_position": null,
            "order": null,
            "overflow": null,
            "overflow_x": null,
            "overflow_y": null,
            "padding": null,
            "right": null,
            "top": null,
            "visibility": null,
            "width": null
          }
        },
        "b5bab1b4cca7428d8a8a8e34f5af42b5": {
          "model_module": "@jupyter-widgets/controls",
          "model_name": "DescriptionStyleModel",
          "model_module_version": "1.5.0",
          "state": {
            "_model_module": "@jupyter-widgets/controls",
            "_model_module_version": "1.5.0",
            "_model_name": "DescriptionStyleModel",
            "_view_count": null,
            "_view_module": "@jupyter-widgets/base",
            "_view_module_version": "1.2.0",
            "_view_name": "StyleView",
            "description_width": ""
          }
        }
      }
    }
  },
  "cells": [
    {
      "cell_type": "markdown",
      "source": [
        "## Student Name: Boyan Li\n",
        "## Student ID: 230109586\n",
        "## The project I attempted was: (3) Text\n"
      ],
      "metadata": {
        "id": "eZrEVcd6cqTs"
      }
    },
    {
      "cell_type": "code",
      "source": [
        "# Make the datasets avaliable in Google colab\n",
        "from google.colab import drive\n",
        "drive.mount('/content/drive')"
      ],
      "metadata": {
        "colab": {
          "base_uri": "https://localhost:8080/"
        },
        "id": "YU6Z4TbJbAqn",
        "outputId": "b757ec30-d2be-4d81-97c1-6cdfbf3001d6"
      },
      "execution_count": 5,
      "outputs": [
        {
          "output_type": "stream",
          "name": "stdout",
          "text": [
            "Mounted at /content/drive\n"
          ]
        }
      ]
    },
    {
      "cell_type": "markdown",
      "source": [
        "# CSC8111 Coursework Specification\n",
        "\n",
        "For this coursework you will perform **THREE** short questions which cover the breadth of the machine learning module along with attempting **ONE** of the four longer project-style questions. All of the short tasks and longer project-style questions can be found in this notebook. You should provide all of your answers in this notebook and submit it to Canvas before the submission deadline.\n",
        "\n",
        "The learning objectives of these short questions are:\n",
        "- To demonstrate a wide-range of machine learning skills.\n",
        "- To be able to apply the most appropriate approach at the right time."
      ],
      "metadata": {
        "id": "bbN5C3u52T3T"
      }
    },
    {
      "cell_type": "markdown",
      "source": [
        "\n",
        "\n",
        "---\n",
        "## Question 1: Classification (10 marks)\n",
        "\n",
        "Load the dataset below, where X and y are the feature (input) variables and target (output) variable. Based on this dataset, build TWO classifiers using different machine learning approaches to predict the two classes in the target variable. You are free to use any appropriate machine learning models and libraries, but you need to split the dataset into training and test sets and optimise the model's hyperparameters (e.g. using GridSearchCV()). As a result, the performance metrics of the best classifier should be reported over the test set. Please follow the steps below to complete the code.\n",
        "\n",
        "The dataset is available at:\n",
        "https://ncl.instructure.com/courses/53509/files/7659751?wrap=1 and\n",
        "https://ncl.instructure.com/courses/53509/files/7659755?wrap=1\n"
      ],
      "metadata": {
        "id": "TP7dNS643CwX"
      }
    },
    {
      "cell_type": "markdown",
      "source": [
        "## Set up the environment and load the dataset"
      ],
      "metadata": {
        "id": "nm8C4PpFrHIB"
      }
    },
    {
      "cell_type": "code",
      "source": [
        "# just run this cell, don't change the code\n",
        "import numpy as np\n",
        "from numpy import loadtxt\n",
        "X = loadtxt('/content/drive/MyDrive/Colab Notebooks/cls_X.csv', delimiter=',')\n",
        "# print(X)\n",
        "y = loadtxt('/content/drive/MyDrive/Colab Notebooks/cls_y.csv', delimiter=',')\n",
        "# print(y)"
      ],
      "metadata": {
        "id": "OZxqzi0vrNlc",
        "is_executing": true
      },
      "execution_count": 7,
      "outputs": []
    },
    {
      "cell_type": "markdown",
      "source": [
        "## Q1.1 Split the data into training and test sets (20% for testing)"
      ],
      "metadata": {
        "id": "i_CnC7pLrUnk"
      }
    },
    {
      "cell_type": "code",
      "source": [
        "from sklearn.model_selection import train_test_split\n",
        "# Split the data into training and test sets (20% for testing)\n",
        "X_train, X_test, y_train, y_test = train_test_split(X, y, test_size=0.2, random_state=48)"
      ],
      "metadata": {
        "id": "E7_KCvHbrbX0"
      },
      "execution_count": 8,
      "outputs": []
    },
    {
      "cell_type": "markdown",
      "source": [
        "Answer: The above code will divide the dataset into training set and test set. 80% of the data is used for training and 20% for testing. The random_state parameter ensures that the split is reproducible, can be set to any integer value."
      ],
      "metadata": {
        "id": "h3aedSiseJAX"
      }
    },
    {
      "cell_type": "markdown",
      "source": [
        "## Q1.2 Create your first classifier"
      ],
      "metadata": {
        "id": "9hNfN-wfrpy7"
      }
    },
    {
      "cell_type": "markdown",
      "source": [
        "#### Q1.2.1 First, make an attempt by using an appropriate machine learning method without optimising the hyperparameter(s). Report the model accuracy over the test set (i.e. test accuracy)."
      ],
      "metadata": {
        "id": "MoIln9tQrziM"
      }
    },
    {
      "cell_type": "code",
      "source": [
        "from sklearn.neighbors import KNeighborsClassifier\n",
        "from sklearn.metrics import accuracy_score\n",
        "\n",
        "# Without hyperparameter optimization\n",
        "clf = KNeighborsClassifier()                            # Creating the KNN classifier\n",
        "y_train=y_train.ravel()                                 # Guaranteed y_train to be a one-dimensional array\n",
        "clf.fit(X_train, y_train)                               # Fitting the classifier to the training set\n",
        "y_pred = clf.predict(X_test)                            # Making predictions on the test set\n",
        "accuracy = accuracy_score(y_test, y_pred)               # Calculating and reporting the accuracy\n",
        "print(f\"KNN Test Accuracy: {accuracy}\")"
      ],
      "metadata": {
        "id": "M8B7NYQer40j",
        "colab": {
          "base_uri": "https://localhost:8080/"
        },
        "outputId": "4f9fdb9e-30fd-4030-ead9-fe2445cd7a28"
      },
      "execution_count": 9,
      "outputs": [
        {
          "output_type": "stream",
          "name": "stdout",
          "text": [
            "KNN Test Accuracy: 0.825\n"
          ]
        }
      ]
    },
    {
      "cell_type": "markdown",
      "source": [
        "#### Q1.2.2 Then, optimise the hyperparameter(s) using the same machine learning method as above. Report the best hyperparameter(s) and, use it to make your first classifier and print out its test accuracy."
      ],
      "metadata": {
        "id": "Qv4TGRbir9Qj"
      }
    },
    {
      "cell_type": "code",
      "source": [
        "from sklearn.preprocessing import StandardScaler\n",
        "from sklearn.pipeline import make_pipeline\n",
        "from sklearn.model_selection import GridSearchCV\n",
        "from sklearn.metrics import accuracy_score\n",
        "from sklearn.neighbors import KNeighborsClassifier\n",
        "\n",
        "# Feature scaling\n",
        "scaler = StandardScaler()\n",
        "X_train_scaled = scaler.fit_transform(X_train)\n",
        "X_test_scaled = scaler.transform(X_test)\n",
        "\n",
        "# Define hyperparameter grid\n",
        "param_grid = {\n",
        "    'n_neighbors': [5, 7, 9, 11, 15],\n",
        "    'weights': ['uniform', 'distance'],\n",
        "    'metric': ['euclidean', 'manhattan']\n",
        "}\n",
        "\n",
        "# Create a GridSearchCV object\n",
        "grid_search = GridSearchCV(KNeighborsClassifier(), param_grid, cv=10)\n",
        "\n",
        "# Fit the GridSearchCV object on scaled data\n",
        "grid_search.fit(X_train_scaled, y_train)\n",
        "\n",
        "# Retrieve results found during grid search\n",
        "best_params = grid_search.best_params_\n",
        "best_knn_clf = grid_search.best_estimator_\n",
        "\n",
        "# Make predictions on scaled test set\n",
        "y_pred_best_knn = best_knn_clf.predict(X_test_scaled)\n",
        "\n",
        "# Calculate and report accuracy\n",
        "best_accuracy_knn = accuracy_score(y_test, y_pred_best_knn)\n",
        "print(f\"Best Hyperparameters: {best_params}\")\n",
        "print(f\"Best KNN Test Accuracy: {best_accuracy_knn}\")"
      ],
      "metadata": {
        "id": "py6TTQBbsN2z",
        "colab": {
          "base_uri": "https://localhost:8080/"
        },
        "outputId": "5cd572d0-ce62-4084-9fdf-fb554b6433c4"
      },
      "execution_count": 10,
      "outputs": [
        {
          "output_type": "stream",
          "name": "stdout",
          "text": [
            "Best Hyperparameters: {'metric': 'euclidean', 'n_neighbors': 11, 'weights': 'distance'}\n",
            "Best KNN Test Accuracy: 0.875\n"
          ]
        }
      ]
    },
    {
      "cell_type": "markdown",
      "source": [
        "## Q1.3 Create your second classifier"
      ],
      "metadata": {
        "id": "a9vtXIavsR3c"
      }
    },
    {
      "cell_type": "markdown",
      "source": [
        "#### Q1.3.1 First, without optimising the hyperparameter(s), make an attempt by using a different machine learning method to the first classifier. Report the model accuracy over the test set (i.e. test accuracy)."
      ],
      "metadata": {
        "id": "7e2hW5LosXij"
      }
    },
    {
      "cell_type": "code",
      "source": [
        "from sklearn.ensemble import RandomForestClassifier\n",
        "from sklearn.metrics import accuracy_score\n",
        "\n",
        "# Without hyperparameter optimization\n",
        "clf = RandomForestClassifier()                          # Creating the KNN classifier\n",
        "clf.fit(X_train, y_train)                               # Fitting the classifier to the training set\n",
        "y_pred = clf.predict(X_test)                            # Making predictions on the test set\n",
        "accuracy = accuracy_score(y_test, y_pred)               # Calculating and reporting the accuracy\n",
        "print(f\"RandomForest Test Accuracy: {accuracy}\")"
      ],
      "metadata": {
        "id": "xOdf70l6sdB7",
        "colab": {
          "base_uri": "https://localhost:8080/"
        },
        "outputId": "a4461652-74bc-4654-c606-659179723b2f"
      },
      "execution_count": 11,
      "outputs": [
        {
          "output_type": "stream",
          "name": "stdout",
          "text": [
            "RandomForest Test Accuracy: 0.8125\n"
          ]
        }
      ]
    },
    {
      "cell_type": "markdown",
      "source": [
        "#### Q1.3.2 Then, optimise the hyperparameter(s) using the same machine learning method as above. Report the best hyperparameter(s) and, use it to make your second classifier and print out its test accuracy.\n",
        "\n"
      ],
      "metadata": {
        "id": "oEkKujVhshwk"
      }
    },
    {
      "cell_type": "code",
      "source": [
        "# Hyperparameter optimization\n",
        "param_grid_rf = {\n",
        "    'n_estimators': [10, 50, 100, 200],\n",
        "    'max_depth': [10, 20, 30, 40],\n",
        "    'min_samples_split': [2, 5, 10]\n",
        "}\n",
        "grid_search_rf = GridSearchCV(RandomForestClassifier(), param_grid_rf, cv=10)\n",
        "grid_search_rf.fit(X_train, y_train)\n",
        "best_params_rf = grid_search_rf.best_params_\n",
        "best_rf_clf = grid_search_rf.best_estimator_\n",
        "y_pred_best_rf = best_rf_clf.predict(X_test)\n",
        "best_accuracy_rf = accuracy_score(y_test, y_pred_best_rf)\n",
        "print(f\"Best Random Forest Test Accuracy: {best_accuracy_rf}\")\n",
        "print(f\"Best Hyperparameters: {best_params_rf}\")"
      ],
      "metadata": {
        "id": "9A7qo9PEsmyU",
        "colab": {
          "base_uri": "https://localhost:8080/"
        },
        "outputId": "2c2c8cda-97e3-46fc-a15b-01510313a479"
      },
      "execution_count": 12,
      "outputs": [
        {
          "output_type": "stream",
          "name": "stdout",
          "text": [
            "Best Random Forest Test Accuracy: 0.8625\n",
            "Best Hyperparameters: {'max_depth': 10, 'min_samples_split': 2, 'n_estimators': 200}\n"
          ]
        }
      ]
    },
    {
      "cell_type": "markdown",
      "source": [
        "## Q1.4 Report the precision, recall, f1 score and confusion matrix on the best of the two classifiers"
      ],
      "metadata": {
        "id": "7b0F3CHOstgE"
      }
    },
    {
      "cell_type": "code",
      "source": [
        "from sklearn.metrics import precision_score, recall_score, f1_score, confusion_matrix\n",
        "\n",
        "# Calculate performance metrics\n",
        "precision = precision_score(y_test, y_pred_best_rf)\n",
        "recall = recall_score(y_test, y_pred_best_rf)\n",
        "f1 = f1_score(y_test, y_pred_best_rf)\n",
        "conf_matrix = confusion_matrix(y_test, y_pred_best_rf)\n",
        "\n",
        "print(f\"Precision: {precision}\")\n",
        "print(f\"Recall: {recall}\")\n",
        "print(f\"F1 Score: {f1}\")\n",
        "print(f\"Confusion Matrix:\\n{conf_matrix}\")"
      ],
      "metadata": {
        "id": "b8xcn_ZPsyhJ",
        "colab": {
          "base_uri": "https://localhost:8080/"
        },
        "outputId": "82348101-bb21-4d88-de6e-d0ba3bfdf1e9"
      },
      "execution_count": null,
      "outputs": [
        {
          "output_type": "stream",
          "name": "stdout",
          "text": [
            "Precision: 0.8048780487804879\n",
            "Recall: 0.8918918918918919\n",
            "F1 Score: 0.8461538461538461\n",
            "Confusion Matrix:\n",
            "[[35  8]\n",
            " [ 4 33]]\n"
          ]
        }
      ]
    },
    {
      "cell_type": "markdown",
      "source": [
        "---\n",
        "## Question 2: Regression (10 marks)\n",
        "\n",
        "In this question you are given a simple dataset which you will perform regression on to predict values. You will build TWO Regression models and then take the best one and perform hyperparameter tuning on it.\n",
        "\n",
        "## Set up the environment"
      ],
      "metadata": {
        "id": "9gckRSHj3PdP"
      }
    },
    {
      "cell_type": "code",
      "source": [
        "import numpy as np\n",
        "from sklearn.model_selection import train_test_split"
      ],
      "metadata": {
        "id": "W-vFlRnBa2NP"
      },
      "execution_count": null,
      "outputs": []
    },
    {
      "cell_type": "markdown",
      "source": [
        "## Read in the data\n",
        "\n",
        "You'll need to download the data.csv file from https://ncl.instructure.com/courses/53509/files/7657710?wrap=1 and upload it to your Google Drive. I placed it in a folder called data. Then you need to mount your Google Drive in Colab (cell below)."
      ],
      "metadata": {
        "id": "end1ynOha5cg"
      }
    },
    {
      "cell_type": "code",
      "execution_count": null,
      "metadata": {
        "id": "cG7eucEW2RM9",
        "colab": {
          "base_uri": "https://localhost:8080/"
        },
        "outputId": "f00c03b9-c763-4251-986c-de3a438487c1"
      },
      "outputs": [
        {
          "output_type": "stream",
          "name": "stdout",
          "text": [
            "Drive already mounted at /content/drive; to attempt to forcibly remount, call drive.mount(\"/content/drive\", force_remount=True).\n"
          ]
        }
      ],
      "source": [
        "from google.colab import drive\n",
        "drive.mount('/content/drive')"
      ]
    },
    {
      "cell_type": "markdown",
      "source": [
        "Then read in the data"
      ],
      "metadata": {
        "id": "WwYiqGNp9X_P"
      }
    },
    {
      "cell_type": "code",
      "source": [
        "data = np.loadtxt('/content/drive/MyDrive/Colab Notebooks/data.csv', delimiter=',')\n",
        "print(data)"
      ],
      "metadata": {
        "id": "pQRk-XkFa7ke",
        "colab": {
          "base_uri": "https://localhost:8080/"
        },
        "outputId": "cc52f884-efe2-407b-ad41-162283994117"
      },
      "execution_count": null,
      "outputs": [
        {
          "output_type": "stream",
          "name": "stdout",
          "text": [
            "[[1.00000000e+00 9.00000000e+00 2.57259990e+00 2.49788633e+02]\n",
            " [1.00000000e+00 5.00000000e+00 9.21413366e+00 5.04502032e+02]\n",
            " [1.00000000e+00 1.70000000e+01 7.12330090e+00 1.33580225e+03]\n",
            " ...\n",
            " [5.00000000e+00 3.10000000e+01 6.80121067e+00 3.15979690e+03]\n",
            " [5.00000000e+00 1.00000000e+01 4.14995662e+00 6.21315789e+02]\n",
            " [5.00000000e+00 9.00000000e+00 9.61878173e+00 1.30105857e+03]]\n"
          ]
        }
      ]
    },
    {
      "cell_type": "markdown",
      "source": [
        "## Q2.1 Split the data into X and y\n",
        "\n",
        "X is the first three columns\n",
        "\n",
        "y is the last column"
      ],
      "metadata": {
        "id": "xr0Wc-5za96b"
      }
    },
    {
      "cell_type": "code",
      "source": [
        "# Split the data into features X and target variable y\n",
        "X = data[:, :3]  # The first three columns are used as features\n",
        "y = data[:, 3]   # The last column is used as the target variable\n",
        "\n",
        "# print(X)\n",
        "# print(y)"
      ],
      "metadata": {
        "id": "uXqIfwSKbBQ_"
      },
      "execution_count": null,
      "outputs": []
    },
    {
      "cell_type": "markdown",
      "source": [
        "## Q2.2 Create the Train and Test datasets\n",
        "\n",
        "20% of the data is kept back for testing"
      ],
      "metadata": {
        "id": "lWn0sY4MbGSc"
      }
    },
    {
      "cell_type": "code",
      "source": [
        "# Split the data into training and testing sets\n",
        "X_train, X_test, y_train, y_test = train_test_split(X, y, test_size=0.20, random_state=44)"
      ],
      "metadata": {
        "id": "MGffSN2bbKG6"
      },
      "execution_count": null,
      "outputs": []
    },
    {
      "cell_type": "markdown",
      "source": [
        "## Q2.3 Use TWO Regression approaches on the dataset\n",
        "\n",
        "In each case report the R^2 value against the test data."
      ],
      "metadata": {
        "id": "wmtjZE2qbJrT"
      }
    },
    {
      "cell_type": "markdown",
      "source": [
        "Q2.3.1 Regression approach 1"
      ],
      "metadata": {
        "id": "zGk6m2CGbPZa"
      }
    },
    {
      "cell_type": "code",
      "source": [
        "from sklearn.linear_model import LinearRegression\n",
        "from sklearn.metrics import r2_score\n",
        "\n",
        "# Create a linear regression model\n",
        "lr = LinearRegression()\n",
        "lr.fit(X_train, y_train)  # Train the model\n",
        "y_pred_lr = lr.predict(X_test)  # Make predictions\n",
        "r2_lr = r2_score(y_test, y_pred_lr)  # Calculate the R^2 score\n",
        "print(f\"Linear Regression R^2: {r2_lr}\")"
      ],
      "metadata": {
        "id": "itckiAcAbS5h",
        "colab": {
          "base_uri": "https://localhost:8080/"
        },
        "outputId": "15f6b40e-587f-4407-cc3d-528c623f556a"
      },
      "execution_count": null,
      "outputs": [
        {
          "output_type": "stream",
          "name": "stdout",
          "text": [
            "Linear Regression R^2: 0.8389230726412951\n"
          ]
        }
      ]
    },
    {
      "cell_type": "markdown",
      "source": [
        "Q2.3.2 Regression approach 2"
      ],
      "metadata": {
        "id": "qsgsuh8zbTRg"
      }
    },
    {
      "cell_type": "code",
      "source": [
        "from sklearn.tree import DecisionTreeRegressor\n",
        "\n",
        "# Create a Decision Tree regression model\n",
        "dtr = DecisionTreeRegressor()\n",
        "dtr.fit(X_train, y_train)  # Train the model\n",
        "y_pred_dtr = dtr.predict(X_test)  # Make predictions\n",
        "r2_dtr = r2_score(y_test, y_pred_dtr)  # Calculate the R^2 score\n",
        "print(f\"Decision Tree Regression R^2: {r2_dtr}\")"
      ],
      "metadata": {
        "id": "Qr6GfmwbbV5c",
        "colab": {
          "base_uri": "https://localhost:8080/"
        },
        "outputId": "47767c8c-1eac-4558-da6b-4ff904ee7700"
      },
      "execution_count": null,
      "outputs": [
        {
          "output_type": "stream",
          "name": "stdout",
          "text": [
            "Decision Tree Regression R^2: 0.978061539461458\n"
          ]
        }
      ]
    },
    {
      "cell_type": "markdown",
      "source": [
        "## Q2.4 Optimise the hyperparameters\n",
        "\n",
        "Take your best Regression approach from above and identify the best hyperparameters. Note as some Regression approaches have many hyperparameters you may limit yourself here to just THREE."
      ],
      "metadata": {
        "id": "m3JF75BVbb7R"
      }
    },
    {
      "cell_type": "markdown",
      "source": [
        "Q2.4.1 Search for the best hyperparameters"
      ],
      "metadata": {
        "id": "BVEVAHb6BXRt"
      }
    },
    {
      "cell_type": "code",
      "source": [
        "# Define a parameter grid for the Decision Tree Regressor\n",
        "param_grid_dtr = {\n",
        "    'max_depth': [None, 10, 20, 30],\n",
        "    'min_samples_split': [2, 5, 10],\n",
        "    'min_samples_leaf': [1, 2, 4]\n",
        "}\n",
        "# Use GridSearchCV\n",
        "grid_search_dtr = GridSearchCV(DecisionTreeRegressor(), param_grid_dtr, cv=5)\n",
        "grid_search_dtr.fit(X_train, y_train)"
      ],
      "metadata": {
        "id": "8ijdArC8bc46",
        "colab": {
          "base_uri": "https://localhost:8080/",
          "height": 239
        },
        "outputId": "86280b67-661e-4d74-a6ac-ea784e2fe386"
      },
      "execution_count": null,
      "outputs": [
        {
          "output_type": "execute_result",
          "data": {
            "text/plain": [
              "GridSearchCV(cv=5, estimator=DecisionTreeRegressor(),\n",
              "             param_grid={'max_depth': [None, 10, 20, 30],\n",
              "                         'min_samples_leaf': [1, 2, 4],\n",
              "                         'min_samples_split': [2, 5, 10]})"
            ],
            "text/html": [
              "<style>#sk-container-id-1 {color: black;background-color: white;}#sk-container-id-1 pre{padding: 0;}#sk-container-id-1 div.sk-toggleable {background-color: white;}#sk-container-id-1 label.sk-toggleable__label {cursor: pointer;display: block;width: 100%;margin-bottom: 0;padding: 0.3em;box-sizing: border-box;text-align: center;}#sk-container-id-1 label.sk-toggleable__label-arrow:before {content: \"▸\";float: left;margin-right: 0.25em;color: #696969;}#sk-container-id-1 label.sk-toggleable__label-arrow:hover:before {color: black;}#sk-container-id-1 div.sk-estimator:hover label.sk-toggleable__label-arrow:before {color: black;}#sk-container-id-1 div.sk-toggleable__content {max-height: 0;max-width: 0;overflow: hidden;text-align: left;background-color: #f0f8ff;}#sk-container-id-1 div.sk-toggleable__content pre {margin: 0.2em;color: black;border-radius: 0.25em;background-color: #f0f8ff;}#sk-container-id-1 input.sk-toggleable__control:checked~div.sk-toggleable__content {max-height: 200px;max-width: 100%;overflow: auto;}#sk-container-id-1 input.sk-toggleable__control:checked~label.sk-toggleable__label-arrow:before {content: \"▾\";}#sk-container-id-1 div.sk-estimator input.sk-toggleable__control:checked~label.sk-toggleable__label {background-color: #d4ebff;}#sk-container-id-1 div.sk-label input.sk-toggleable__control:checked~label.sk-toggleable__label {background-color: #d4ebff;}#sk-container-id-1 input.sk-hidden--visually {border: 0;clip: rect(1px 1px 1px 1px);clip: rect(1px, 1px, 1px, 1px);height: 1px;margin: -1px;overflow: hidden;padding: 0;position: absolute;width: 1px;}#sk-container-id-1 div.sk-estimator {font-family: monospace;background-color: #f0f8ff;border: 1px dotted black;border-radius: 0.25em;box-sizing: border-box;margin-bottom: 0.5em;}#sk-container-id-1 div.sk-estimator:hover {background-color: #d4ebff;}#sk-container-id-1 div.sk-parallel-item::after {content: \"\";width: 100%;border-bottom: 1px solid gray;flex-grow: 1;}#sk-container-id-1 div.sk-label:hover label.sk-toggleable__label {background-color: #d4ebff;}#sk-container-id-1 div.sk-serial::before {content: \"\";position: absolute;border-left: 1px solid gray;box-sizing: border-box;top: 0;bottom: 0;left: 50%;z-index: 0;}#sk-container-id-1 div.sk-serial {display: flex;flex-direction: column;align-items: center;background-color: white;padding-right: 0.2em;padding-left: 0.2em;position: relative;}#sk-container-id-1 div.sk-item {position: relative;z-index: 1;}#sk-container-id-1 div.sk-parallel {display: flex;align-items: stretch;justify-content: center;background-color: white;position: relative;}#sk-container-id-1 div.sk-item::before, #sk-container-id-1 div.sk-parallel-item::before {content: \"\";position: absolute;border-left: 1px solid gray;box-sizing: border-box;top: 0;bottom: 0;left: 50%;z-index: -1;}#sk-container-id-1 div.sk-parallel-item {display: flex;flex-direction: column;z-index: 1;position: relative;background-color: white;}#sk-container-id-1 div.sk-parallel-item:first-child::after {align-self: flex-end;width: 50%;}#sk-container-id-1 div.sk-parallel-item:last-child::after {align-self: flex-start;width: 50%;}#sk-container-id-1 div.sk-parallel-item:only-child::after {width: 0;}#sk-container-id-1 div.sk-dashed-wrapped {border: 1px dashed gray;margin: 0 0.4em 0.5em 0.4em;box-sizing: border-box;padding-bottom: 0.4em;background-color: white;}#sk-container-id-1 div.sk-label label {font-family: monospace;font-weight: bold;display: inline-block;line-height: 1.2em;}#sk-container-id-1 div.sk-label-container {text-align: center;}#sk-container-id-1 div.sk-container {/* jupyter's `normalize.less` sets `[hidden] { display: none; }` but bootstrap.min.css set `[hidden] { display: none !important; }` so we also need the `!important` here to be able to override the default hidden behavior on the sphinx rendered scikit-learn.org. See: https://github.com/scikit-learn/scikit-learn/issues/21755 */display: inline-block !important;position: relative;}#sk-container-id-1 div.sk-text-repr-fallback {display: none;}</style><div id=\"sk-container-id-1\" class=\"sk-top-container\"><div class=\"sk-text-repr-fallback\"><pre>GridSearchCV(cv=5, estimator=DecisionTreeRegressor(),\n",
              "             param_grid={&#x27;max_depth&#x27;: [None, 10, 20, 30],\n",
              "                         &#x27;min_samples_leaf&#x27;: [1, 2, 4],\n",
              "                         &#x27;min_samples_split&#x27;: [2, 5, 10]})</pre><b>In a Jupyter environment, please rerun this cell to show the HTML representation or trust the notebook. <br />On GitHub, the HTML representation is unable to render, please try loading this page with nbviewer.org.</b></div><div class=\"sk-container\" hidden><div class=\"sk-item sk-dashed-wrapped\"><div class=\"sk-label-container\"><div class=\"sk-label sk-toggleable\"><input class=\"sk-toggleable__control sk-hidden--visually\" id=\"sk-estimator-id-1\" type=\"checkbox\" ><label for=\"sk-estimator-id-1\" class=\"sk-toggleable__label sk-toggleable__label-arrow\">GridSearchCV</label><div class=\"sk-toggleable__content\"><pre>GridSearchCV(cv=5, estimator=DecisionTreeRegressor(),\n",
              "             param_grid={&#x27;max_depth&#x27;: [None, 10, 20, 30],\n",
              "                         &#x27;min_samples_leaf&#x27;: [1, 2, 4],\n",
              "                         &#x27;min_samples_split&#x27;: [2, 5, 10]})</pre></div></div></div><div class=\"sk-parallel\"><div class=\"sk-parallel-item\"><div class=\"sk-item\"><div class=\"sk-label-container\"><div class=\"sk-label sk-toggleable\"><input class=\"sk-toggleable__control sk-hidden--visually\" id=\"sk-estimator-id-2\" type=\"checkbox\" ><label for=\"sk-estimator-id-2\" class=\"sk-toggleable__label sk-toggleable__label-arrow\">estimator: DecisionTreeRegressor</label><div class=\"sk-toggleable__content\"><pre>DecisionTreeRegressor()</pre></div></div></div><div class=\"sk-serial\"><div class=\"sk-item\"><div class=\"sk-estimator sk-toggleable\"><input class=\"sk-toggleable__control sk-hidden--visually\" id=\"sk-estimator-id-3\" type=\"checkbox\" ><label for=\"sk-estimator-id-3\" class=\"sk-toggleable__label sk-toggleable__label-arrow\">DecisionTreeRegressor</label><div class=\"sk-toggleable__content\"><pre>DecisionTreeRegressor()</pre></div></div></div></div></div></div></div></div></div></div>"
            ]
          },
          "metadata": {},
          "execution_count": 60
        }
      ]
    },
    {
      "cell_type": "markdown",
      "source": [
        "Q2.4.2 Output the best hyperparameters found"
      ],
      "metadata": {
        "id": "UNW3xx80bUyR"
      }
    },
    {
      "cell_type": "code",
      "source": [
        "# Get the best hyperparameters for the Decision Tree Regressor\n",
        "best_params_dtr = grid_search_dtr.best_params_\n",
        "print(f\"Best Hyperparameters for Decision Tree Regressor: {best_params_dtr}\")"
      ],
      "metadata": {
        "id": "XqeEdsTyBf4G",
        "colab": {
          "base_uri": "https://localhost:8080/"
        },
        "outputId": "acfde63d-832a-40ad-ef1a-53770096a422"
      },
      "execution_count": null,
      "outputs": [
        {
          "output_type": "stream",
          "name": "stdout",
          "text": [
            "Best Hyperparameters for Decision Tree Regressor: {'max_depth': 30, 'min_samples_leaf': 1, 'min_samples_split': 2}\n"
          ]
        }
      ]
    },
    {
      "cell_type": "markdown",
      "source": [
        "Q2.4.3 Show the results for the best model"
      ],
      "metadata": {
        "id": "LRVDmIC5blNc"
      }
    },
    {
      "cell_type": "code",
      "source": [
        "# Use the best model for predictions\n",
        "best_dtr = grid_search_dtr.best_estimator_\n",
        "y_pred_best_dtr = best_dtr.predict(X_test)\n",
        "r2_best_dtr = r2_score(y_test, y_pred_best_dtr)\n",
        "print(f\"Best Decision Tree Regressor Model R^2: {r2_best_dtr}\")"
      ],
      "metadata": {
        "id": "MO5YBeW3bmCa",
        "colab": {
          "base_uri": "https://localhost:8080/"
        },
        "outputId": "3b201267-0dbc-44df-e5a2-2e6e33962f76"
      },
      "execution_count": null,
      "outputs": [
        {
          "output_type": "stream",
          "name": "stdout",
          "text": [
            "Best Decision Tree Regressor Model R^2: 0.9795815072664684\n"
          ]
        }
      ]
    },
    {
      "cell_type": "markdown",
      "source": [
        "---\n",
        "## Question 3: Deep Learning (10 marks)"
      ],
      "metadata": {
        "id": "srmm6k8N3bHl"
      }
    },
    {
      "cell_type": "markdown",
      "source": [
        "Q3.1 For MNIST dataset, implement a deep learning model with 3 hidden layers with layer size: 128, 256, 50.\n"
      ],
      "metadata": {
        "id": "JGLqEuqrom65"
      }
    },
    {
      "cell_type": "code",
      "source": [
        "from keras.models import Sequential\n",
        "from keras.layers import Dense, Activation, Dropout\n",
        "from keras.datasets import mnist\n",
        "import keras.utils as utils\n",
        "\n",
        "batch_size = 128\n",
        "nb_classes = 10\n",
        "im_dim = 784 # the total pixel number\n",
        "nb_epoch = 2"
      ],
      "metadata": {
        "id": "Qohr1fFl11AQ"
      },
      "execution_count": 26,
      "outputs": []
    },
    {
      "cell_type": "code",
      "source": [
        "# Load MNIST dataset\n",
        "(X_train, y_train), (X_test, y_test) = mnist.load_data()\n",
        "X_train = X_train.reshape(60000, im_dim)\n",
        "X_test = X_test.reshape(10000, im_dim)\n",
        "X_train = X_train.astype('float32')\n",
        "X_test = X_test.astype('float32')\n",
        "X_train /= 255\n",
        "X_test /= 255\n",
        "Y_train = utils.to_categorical(y_train, nb_classes)\n",
        "Y_test = utils.to_categorical(y_test, nb_classes)"
      ],
      "metadata": {
        "id": "gKJlUuXy2MpW",
        "colab": {
          "base_uri": "https://localhost:8080/"
        },
        "outputId": "e920e7b8-9113-4ef2-b160-a6aab8973ea3"
      },
      "execution_count": 27,
      "outputs": [
        {
          "output_type": "stream",
          "name": "stdout",
          "text": [
            "Downloading data from https://storage.googleapis.com/tensorflow/tf-keras-datasets/mnist.npz\n",
            "11490434/11490434 [==============================] - 0s 0us/step\n"
          ]
        }
      ]
    },
    {
      "cell_type": "code",
      "source": [
        "# Write down your code about MLP model for question Q3.1 here\n",
        "# you should call your model 'model'\n",
        "# ...\n",
        "import tensorflow as tf\n",
        "from tensorflow.keras import models, layers\n",
        "from tensorflow.keras.utils import to_categorical\n",
        "from tensorflow.keras.datasets import mnist\n",
        "\n",
        "model = models.Sequential()\n",
        "model.add(layers.InputLayer(input_shape=(im_dim,)))\n",
        "model.add(layers.Dense(128, activation='relu'))\n",
        "model.add(layers.Dropout(0.5))\n",
        "model.add(layers.Dense(256, activation='relu'))\n",
        "model.add(layers.Dropout(0.5))\n",
        "model.add(layers.Dense(50, activation='relu'))\n",
        "model.add(layers.Dense(nb_classes, activation='softmax'))\n",
        "\n",
        "model.compile(optimizer='adam',\n",
        "              loss='categorical_crossentropy',\n",
        "              metrics=['accuracy'])"
      ],
      "metadata": {
        "id": "mzOgmZhH2YEo"
      },
      "execution_count": 28,
      "outputs": []
    },
    {
      "cell_type": "markdown",
      "source": [
        "Add code to output your network structure"
      ],
      "metadata": {
        "id": "dSWAUZHhE2sS"
      }
    },
    {
      "cell_type": "code",
      "source": [
        "# your code here\n",
        "model.summary()\n",
        "test_loss, test_acc = model.evaluate(X_test, Y_test)\n",
        "print(f'Test accuracy: {test_acc}')"
      ],
      "metadata": {
        "id": "ZG7FyBFb208l",
        "colab": {
          "base_uri": "https://localhost:8080/"
        },
        "outputId": "e5aa09dd-473e-41cc-ebed-4dfe2f85d422"
      },
      "execution_count": 29,
      "outputs": [
        {
          "output_type": "stream",
          "name": "stdout",
          "text": [
            "Model: \"sequential\"\n",
            "_________________________________________________________________\n",
            " Layer (type)                Output Shape              Param #   \n",
            "=================================================================\n",
            " dense (Dense)               (None, 128)               100480    \n",
            "                                                                 \n",
            " dropout_20 (Dropout)        (None, 128)               0         \n",
            "                                                                 \n",
            " dense_1 (Dense)             (None, 256)               33024     \n",
            "                                                                 \n",
            " dropout_21 (Dropout)        (None, 256)               0         \n",
            "                                                                 \n",
            " dense_2 (Dense)             (None, 50)                12850     \n",
            "                                                                 \n",
            " dense_3 (Dense)             (None, 10)                510       \n",
            "                                                                 \n",
            "=================================================================\n",
            "Total params: 146864 (573.69 KB)\n",
            "Trainable params: 146864 (573.69 KB)\n",
            "Non-trainable params: 0 (0.00 Byte)\n",
            "_________________________________________________________________\n",
            "313/313 [==============================] - 1s 2ms/step - loss: 2.3142 - accuracy: 0.0883\n",
            "Test accuracy: 0.08829999715089798\n"
          ]
        }
      ]
    },
    {
      "cell_type": "markdown",
      "source": [
        "Train the model for just two epochs to show it works. All code provided - just run."
      ],
      "metadata": {
        "id": "g1TKigVc-q37"
      }
    },
    {
      "cell_type": "code",
      "source": [
        "# Train\n",
        "history = model.fit(X_train, Y_train, epochs=nb_epoch,\n",
        "                    validation_split = 0.2,\n",
        "                    batch_size=batch_size, verbose=1)\n",
        "\n",
        "# Evaluate\n",
        "evaluation = model.evaluate(X_test, Y_test, verbose=1)\n",
        "print('Summary: Loss over the test dataset: %.2f, Accuracy: %.2f' % (evaluation[0], evaluation[1]))"
      ],
      "metadata": {
        "id": "2l4j6djO0xPE",
        "colab": {
          "base_uri": "https://localhost:8080/"
        },
        "outputId": "9d3d39d6-5889-46b7-d3eb-eb32a5676f00"
      },
      "execution_count": 30,
      "outputs": [
        {
          "output_type": "stream",
          "name": "stdout",
          "text": [
            "Epoch 1/2\n",
            "375/375 [==============================] - 4s 8ms/step - loss: 0.6505 - accuracy: 0.7922 - val_loss: 0.2209 - val_accuracy: 0.9349\n",
            "Epoch 2/2\n",
            "375/375 [==============================] - 4s 10ms/step - loss: 0.3147 - accuracy: 0.9075 - val_loss: 0.1528 - val_accuracy: 0.9553\n",
            "313/313 [==============================] - 1s 2ms/step - loss: 0.1534 - accuracy: 0.9534\n",
            "Summary: Loss over the test dataset: 0.15, Accuracy: 0.95\n"
          ]
        }
      ]
    },
    {
      "cell_type": "markdown",
      "source": [
        "Q 3.2 For MNIST dataset, implement a CNN model with only one 2D CNN layer as the hidden layer."
      ],
      "metadata": {
        "id": "P_QoG4wjo2-p"
      }
    },
    {
      "cell_type": "code",
      "source": [
        "import keras\n",
        "from keras.datasets import mnist\n",
        "from keras.models import Sequential\n",
        "from keras.layers import Dense, Dropout, Flatten\n",
        "from keras.layers import Conv2D, MaxPooling2D\n",
        "from keras import backend as K\n",
        "\n",
        "batch_size = 128\n",
        "num_classes = 10\n",
        "epochs = 2\n",
        "\n",
        "# the data, shuffled and split between train and test sets\n",
        "(x_train, y_train), (x_test, y_test) = mnist.load_data()\n",
        "\n",
        "# input image dimensions\n",
        "img_rows, img_cols = 28, 28\n",
        "x_train = x_train.reshape(x_train.shape[0], img_rows, img_cols, 1)\n",
        "x_test = x_test.reshape(x_test.shape[0], img_rows, img_cols, 1)\n",
        "\n",
        "x_train = x_train.astype('float32')\n",
        "x_test = x_test.astype('float32')\n",
        "x_train /= 255\n",
        "x_test /= 255\n",
        "print('x_train shape:', x_train.shape)\n",
        "print(x_train.shape[0], 'train samples')\n",
        "print(x_test.shape[0], 'test samples')\n",
        "\n",
        "# convert class vectors to binary class matrices\n",
        "y_train = keras.utils.to_categorical(y_train, num_classes)\n",
        "y_test = keras.utils.to_categorical(y_test, num_classes)"
      ],
      "metadata": {
        "colab": {
          "base_uri": "https://localhost:8080/"
        },
        "id": "3_2Usx0x5AGf",
        "outputId": "68841b7a-c2c7-4908-f9ef-aef24d2ee462"
      },
      "execution_count": 31,
      "outputs": [
        {
          "output_type": "stream",
          "name": "stdout",
          "text": [
            "x_train shape: (60000, 28, 28, 1)\n",
            "60000 train samples\n",
            "10000 test samples\n"
          ]
        }
      ]
    },
    {
      "cell_type": "code",
      "source": [
        "# Write down your code about the CNN model of Q3.2 here\n",
        "# you should call your model 'model'\n",
        "# ...\n",
        "model = Sequential()\n",
        "model.add(Conv2D(32, kernel_size=(3, 3), activation='relu', input_shape=(img_rows, img_cols, 1)))\n",
        "model.add(MaxPooling2D(pool_size=(2, 2)))\n",
        "model.add(Dropout(0.25))\n",
        "model.add(Flatten())\n",
        "model.add(Dense(128, activation='relu'))\n",
        "model.add(Dropout(0.5))\n",
        "model.add(Dense(num_classes, activation='softmax'))\n",
        "\n",
        "model.compile(loss=keras.losses.categorical_crossentropy,\n",
        "              optimizer=keras.optimizers.Adadelta(),\n",
        "              metrics=['accuracy'])"
      ],
      "metadata": {
        "id": "5UjhYfvX5OCM"
      },
      "execution_count": 32,
      "outputs": []
    },
    {
      "cell_type": "markdown",
      "source": [
        "Add code to output your network structure"
      ],
      "metadata": {
        "id": "lZpz9nRi5lj9"
      }
    },
    {
      "cell_type": "code",
      "source": [
        "# your code here\n",
        "model.summary()"
      ],
      "metadata": {
        "id": "zlhSLt6U5nLF",
        "colab": {
          "base_uri": "https://localhost:8080/"
        },
        "outputId": "e9e69f76-3178-4343-dcda-504b8454ad09"
      },
      "execution_count": 33,
      "outputs": [
        {
          "output_type": "stream",
          "name": "stdout",
          "text": [
            "Model: \"sequential_1\"\n",
            "_________________________________________________________________\n",
            " Layer (type)                Output Shape              Param #   \n",
            "=================================================================\n",
            " conv2d (Conv2D)             (None, 26, 26, 32)        320       \n",
            "                                                                 \n",
            " max_pooling2d (MaxPooling2  (None, 13, 13, 32)        0         \n",
            " D)                                                              \n",
            "                                                                 \n",
            " dropout_22 (Dropout)        (None, 13, 13, 32)        0         \n",
            "                                                                 \n",
            " flatten (Flatten)           (None, 5408)              0         \n",
            "                                                                 \n",
            " dense_4 (Dense)             (None, 128)               692352    \n",
            "                                                                 \n",
            " dropout_23 (Dropout)        (None, 128)               0         \n",
            "                                                                 \n",
            " dense_5 (Dense)             (None, 10)                1290      \n",
            "                                                                 \n",
            "=================================================================\n",
            "Total params: 693962 (2.65 MB)\n",
            "Trainable params: 693962 (2.65 MB)\n",
            "Non-trainable params: 0 (0.00 Byte)\n",
            "_________________________________________________________________\n"
          ]
        }
      ]
    },
    {
      "cell_type": "markdown",
      "source": [
        "We just train for two epochs to demonstrate that the network does work. Just run it."
      ],
      "metadata": {
        "id": "Z4mhkn4N5Tq3"
      }
    },
    {
      "cell_type": "code",
      "source": [
        "history = model.fit(x_train, y_train, batch_size=batch_size, epochs=epochs,\n",
        "              verbose=1, shuffle=True,\n",
        "              validation_split = 0.2)\n",
        "score = model.evaluate(x_test, y_test, verbose=0)\n",
        "print('Summary: Loss over the test dataset: %.2f, Accuracy: %.2f' % (score[0], score[1]))"
      ],
      "metadata": {
        "id": "wEkhYk7npCun",
        "colab": {
          "base_uri": "https://localhost:8080/"
        },
        "outputId": "4e1dd487-50dd-40ae-ebb2-4edce12f52b9"
      },
      "execution_count": 34,
      "outputs": [
        {
          "output_type": "stream",
          "name": "stdout",
          "text": [
            "Epoch 1/2\n",
            "375/375 [==============================] - 28s 74ms/step - loss: 2.2767 - accuracy: 0.1483 - val_loss: 2.2431 - val_accuracy: 0.2607\n",
            "Epoch 2/2\n",
            "375/375 [==============================] - 28s 75ms/step - loss: 2.2365 - accuracy: 0.2078 - val_loss: 2.1989 - val_accuracy: 0.4072\n",
            "Summary: Loss over the test dataset: 2.20, Accuracy: 0.42\n"
          ]
        }
      ]
    },
    {
      "cell_type": "markdown",
      "source": [
        "---\n",
        "---\n",
        "---\n",
        "#Mini-projects: Introduction\n",
        "\n",
        "The remainder of this document defines four project-style questions which go more deeply into one of the areas from the module. You should pick **ONE** of these project-stye questions to answer.\n",
        "\n",
        "The learning objectives of this assignment are:\n",
        "1. To learn about the design of machine learning analysis pipelines\n",
        "2. To understand how to select appropriate methods given the dataset type\n",
        "3. To learn how to conduct machine learning experimentation in a rigorous and effective manner\n",
        "4. To critically evaluate the performance of the designed machine learning pipelines\n",
        "5. To learn and practice the skills of reporting machine learning experiments\n",
        "\n",
        "For this coursework you will be provided with a choice of four different datasets of different nature\n",
        "1. A tabular dataset (defined as a classification problem)\n",
        "2. An image dataset\n",
        "3. A text dataset\n",
        "4. A time series dataset\n",
        "\n",
        "Your job is easy to state: You should pick ONE out of these four options and design a range of machine learning pipelines appropriate to the nature of each of the selected datasets. Overall, we expect that you will perform a thorough investigation involving (whenever relevant) all parts of a machine learning pipeline (exploration, preprocessing, model training, model interpretation and evaluation), evaluating a range of options for all parts of the pipeline and with proper hyperparameter tuning.\n",
        "\n",
        "You will have to write a short report (as part of this notebook) that presents the experiments you did, their justification, a detailed description of the performance of your designed pipelines using the most appropriate presentation tools (e.g., tables of results, plots). We expect that you should be able to present your work at a level of detail that would enable a fellow student to reproduce your steps.\n",
        "\n",
        "## Deliverables\n",
        "An inline report and code blocks addressing the marking scheme below. The report should have 1000 to 2000 words. The word count excludes references, tables, figures and section headers, and has a 10% leeway.\n",
        "\n",
        "## Marking scheme\n",
        "\n",
        "- Writing Style, references, figures, etc. 7 marks\n",
        "- Dataset exploration 7 marks\n",
        "- Methods 21 marks\n",
        "- Results of analysis 21 marks\n",
        "- Discussion 14 marks"
      ],
      "metadata": {
        "id": "rIwvxKzo4Cnp"
      }
    },
    {
      "cell_type": "markdown",
      "source": [
        "---\n",
        "---\n",
        "## Project 1: Tabular dataset (70 marks)\n",
        "\n",
        "The dataset, called FARS, is a collection of statistics of US road traffic accidents. The class label is about the severity of the accident. It has 20 features and over 100K examples. The dataset is available in Canvas as a CSV file, in which the last column contains the class labels: https://ncl.instructure.com/courses/53509/files/7652449/download?download_frd=1\n",
        "\n",
        "Experiments on the tabular dataset will be relatively fast compared to the other three options. To compensate, we expect that you evaluate a very broad range of options for the design of your machine learning pipelines, including (but not limited to) data normalisation, feature/instance selection, class imbalance correction, several (appropriate) machine learning models, hyperparameter tuning and cross-validation evaluation."
      ],
      "metadata": {
        "id": "YFvmBHNN4ZAx"
      }
    },
    {
      "cell_type": "markdown",
      "source": [
        "## Your answer below"
      ],
      "metadata": {
        "id": "xDPwGIZYWNG5"
      }
    },
    {
      "cell_type": "code",
      "source": [],
      "metadata": {
        "id": "9kwhWir0WQj-"
      },
      "execution_count": null,
      "outputs": []
    },
    {
      "cell_type": "markdown",
      "source": [
        "---\n",
        "---\n",
        "## Project 2: Image dataset (70 marks)\n",
        "\n",
        "The FMNISTMash dataset is an extension to the FMNIST dataset. In each 3-colour channel image there is one FMNIST image in each channel (see example below). The idea is to predict the number of unique classes in the three channels (0 - all images are of the same class, 1 - two different classes, 2 - three different classes). So for the example image there is a top and two jackets so lable is 1. Please download the data from:\n",
        "\n",
        "|Data| URL|\n",
        "|---|------|\n",
        "|Train X | http://homepages.cs.ncl.ac.uk/stephen.mcgough/data/FMNISTMash/train_x.npy |\n",
        "| Train y | http://homepages.cs.ncl.ac.uk/stephen.mcgough/data/FMNISTMash/train_x.npy |\n",
        "| Validate X | http://homepages.cs.ncl.ac.uk/stephen.mcgough/data/FMNISTMash/valid_x.npy |\n",
        "| Validate y | http://homepages.cs.ncl.ac.uk/stephen.mcgough/data/FMNISTMash/valid_y.npy |\n",
        "| Test X | http://homepages.cs.ncl.ac.uk/stephen.mcgough/data/FMNISTMash/test_x.npy |\n",
        "| Test y | http://homepages.cs.ncl.ac.uk/stephen.mcgough/data/FMNISTMash/test_y.npy |\n",
        "\n",
        "![Unknown.png](data:image/png;base64,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)\n",
        "Figure 1: Example image from the FMNISTMash dataset, class label is 1\n",
        "\n",
        "Your task is to produce TWO models for predicting the class of the image. Note: you can do ONE model which splits the image into its separate colour channels and performs a classification on them separately, but the other MUST work on all three chanels together.\n",
        "\n",
        "Some hints:\n",
        "- The code below shows you how to load and view the data.\n",
        "- To speed up your work here are some hints (assuming you’re using Colab):\n",
        " - Make sure you set the Runtime type to either GPU or TPU.\n",
        " - Copy the data to your Google drive so you don’t have to keep uploading it. Full information on how to do this can be found at: https://colab.research.google.com/notebooks/io.ipynb\n",
        " - As the dataset is large you might want to do some of your initial testing on a subset of the data."
      ],
      "metadata": {
        "id": "zlJKjLzA6mD-"
      }
    },
    {
      "cell_type": "markdown",
      "source": [
        "To load the data, we reccomend storing it in your Google Drive, this means you won't need to load it into the local colab storage every time you open the notebook.\n",
        "\n",
        "The following import will allow your notebook to connect to Google Drive. When you run this cell a seperate window will pop up asking you to grant Drive access to colab. Grant it access to the account which contains FMNISTMash"
      ],
      "metadata": {
        "id": "fObVBMkBU7iQ"
      }
    },
    {
      "cell_type": "markdown",
      "source": [
        "## Load the data\n",
        "\n",
        "The dataset is stored as six Numpy files, so to load them we will need to import Numpy. Before loading each file into its own vaiable.\n",
        "\n",
        "**Note: you'll need to change the location of the file to wherever you stroed your files.**"
      ],
      "metadata": {
        "id": "maMCx1-mVNJD"
      }
    },
    {
      "cell_type": "code",
      "source": [
        "import numpy as np\n",
        "\n",
        "train_x = np.load('/content/drive/MyDrive/data/FMNISTMash/train_x.npy', allow_pickle = True)\n",
        "train_y = np.load('/content/drive/MyDrive/data/FMNISTMash/train_y.npy', allow_pickle = True)\n",
        "valid_x = np.load('/content/drive/MyDrive/data/FMNISTMash/valid_x.npy', allow_pickle = True)\n",
        "valid_y = np.load('/content/drive/MyDrive/data/FMNISTMash/valid_y.npy', allow_pickle = True)\n",
        "test_x = np.load('/content/drive/MyDrive/data/FMNISTMash/test_x.npy', allow_pickle = True)\n",
        "test_y = np.load('/content/drive/MyDrive/data/FMNISTMash/test_y.npy', allow_pickle = True)"
      ],
      "metadata": {
        "id": "fmI3GgryVUs2"
      },
      "execution_count": null,
      "outputs": []
    },
    {
      "cell_type": "markdown",
      "source": [
        "## Check the shape of the data\n",
        "Make sure the data is loaded and in the shape that you expect, FMNISTMash has 50,000 training images, 10,000 validation images, and 10,000 testing images."
      ],
      "metadata": {
        "id": "qQlUFUg4Vld_"
      }
    },
    {
      "cell_type": "code",
      "source": [
        "print(f'train_x shape: {train_x.shape}')\n",
        "print(f'train_y shape: {train_y.shape}')\n",
        "print(f'valid_x shape: {valid_x.shape}')\n",
        "print(f'valid_y shape: {valid_y.shape}')\n",
        "print(f'test_x shape: {test_x.shape}')\n",
        "print(f'test_y shape: {test_y.shape}')"
      ],
      "metadata": {
        "id": "ZqyBcOgIVsFa",
        "colab": {
          "base_uri": "https://localhost:8080/"
        },
        "outputId": "0b1075cc-6103-4ec8-9f6f-6c4e614f89f1"
      },
      "execution_count": null,
      "outputs": [
        {
          "output_type": "stream",
          "name": "stdout",
          "text": [
            "train_x shape: (50000, 3, 28, 28)\n",
            "train_y shape: (50000,)\n",
            "valid_x shape: (10000, 3, 28, 28)\n",
            "valid_y shape: (10000,)\n",
            "test_x shape: (10000, 3, 28, 28)\n",
            "test_y shape: (10000,)\n"
          ]
        }
      ]
    },
    {
      "cell_type": "markdown",
      "source": [
        "## Displaying the Images"
      ],
      "metadata": {
        "id": "n6Fx1rjOVzsB"
      }
    },
    {
      "cell_type": "markdown",
      "source": [
        "### Displaying the single image\n",
        "\n",
        "To display the images we are going to be using MatPlotLib, so we need to import that, standard practice is to import it as plt"
      ],
      "metadata": {
        "id": "ml4trjkTOhKY"
      }
    },
    {
      "cell_type": "code",
      "source": [
        "import matplotlib.pyplot as plt"
      ],
      "metadata": {
        "id": "u5q5Lf4lV6jw"
      },
      "execution_count": null,
      "outputs": []
    },
    {
      "cell_type": "markdown",
      "source": [
        "The following two functions aren't necessary, they simply remove the axis ticks and numbers from the rendered image and perform some normalisation to the image."
      ],
      "metadata": {
        "id": "8sA2dmd8PZxb"
      }
    },
    {
      "cell_type": "code",
      "source": [
        "def disable_ax_ticks(ax):\n",
        "    ax.set_xticks([])\n",
        "    ax.set_xticks([], minor=True)\n",
        "    ax.set_yticks([])\n",
        "    ax.set_yticks([], minor=True)"
      ],
      "metadata": {
        "id": "GVCTsoTjPdQk"
      },
      "execution_count": null,
      "outputs": []
    },
    {
      "cell_type": "code",
      "source": [
        "def image_normalisation(arr):\n",
        "    return (arr - arr.min())/(arr.max()-arr.min())"
      ],
      "metadata": {
        "id": "ZdtuuxU-PfrE"
      },
      "execution_count": null,
      "outputs": []
    },
    {
      "cell_type": "markdown",
      "source": [
        "We construct the figure using plt, pyplot expects the colour channel to be last, the data is saved in a channels_first format so needs to be converted which is what we used np.move_axis for."
      ],
      "metadata": {
        "id": "Hnko-gUTPlt0"
      }
    },
    {
      "cell_type": "code",
      "source": [
        "def display_image(x, y):\n",
        "    fig = plt.figure()\n",
        "    main_ax = fig.add_subplot()\n",
        "    fig.suptitle('label = '+ str(y))\n",
        "    main_ax.imshow(image_normalisation(np.moveaxis(x, 0, -1)))\n",
        "    disable_ax_ticks(main_ax)\n",
        "    plt.show()"
      ],
      "metadata": {
        "id": "ioVxAOdMPm7N"
      },
      "execution_count": null,
      "outputs": []
    },
    {
      "cell_type": "markdown",
      "source": [
        "## Pick a random example and plot it\n",
        "\n",
        "We want to plot a random image, so we import random and pick a random index using the number of images in train_x as a limit."
      ],
      "metadata": {
        "id": "ysYbVlkDV-sx"
      }
    },
    {
      "cell_type": "code",
      "source": [
        "import random\n",
        "\n",
        "ri = random.randrange(train_x.shape[0])"
      ],
      "metadata": {
        "id": "7Q0BIuT-WDCJ"
      },
      "execution_count": null,
      "outputs": []
    },
    {
      "cell_type": "markdown",
      "source": [
        "We now render the image, the label indicates how many different FMNIST classes appear in the image.\n",
        "\n",
        "- 0 = All images are the same class\n",
        "- 1 = Two images share the same class\n",
        "- 2 = All images are from different classes"
      ],
      "metadata": {
        "id": "-7ckEkjDPxyM"
      }
    },
    {
      "cell_type": "code",
      "source": [
        "display_image(train_x[ri], train_y[ri])"
      ],
      "metadata": {
        "colab": {
          "base_uri": "https://localhost:8080/",
          "height": 454
        },
        "id": "CcEeUqUDPy3w",
        "outputId": "07fdbc5e-1270-4c8b-bb41-6715064eb4a2"
      },
      "execution_count": null,
      "outputs": [
        {
          "output_type": "display_data",
          "data": {
            "text/plain": [
              "<Figure size 640x480 with 1 Axes>"
            ],
            "image/png": "[encoded data removed]"
          },
          "metadata": {}
        }
      ]
    },
    {
      "cell_type": "markdown",
      "source": [
        "## Splitting the Image\n",
        "\n",
        "This next section is just to make the dataset easier to understand. We will display the image, and then the three images that make it up seperately."
      ],
      "metadata": {
        "id": "pCU_N4BUP3Jp"
      }
    },
    {
      "cell_type": "code",
      "source": [
        "def show_mnist_examples(x, y):\n",
        "  fig = plt.figure(constrained_layout=True,figsize=(12,9), dpi=100)\n",
        "  gs = fig.add_gridspec(3,4)\n",
        "  main_ax = fig.add_subplot(gs[:3,:3])\n",
        "  fig.suptitle('label = '+ str(y))\n",
        "  main_ax.imshow(image_normalisation(np.moveaxis(x, 0, -1)))\n",
        "  disable_ax_ticks(main_ax)\n",
        "\n",
        "  for j in range(3):\n",
        "      c_ax = fig.add_subplot(gs[j,-1])\n",
        "      subimage = x.copy()\n",
        "      subimage[:j] = 0\n",
        "      subimage[j+1:] = 0\n",
        "      subimage[j] = subimage[j]-subimage[j].min()\n",
        "      c_ax.imshow(image_normalisation(np.moveaxis(subimage, 0, -1)))\n",
        "      disable_ax_ticks(c_ax)\n",
        "  plt.show()"
      ],
      "metadata": {
        "id": "vV6ch7gLWKj0"
      },
      "execution_count": null,
      "outputs": []
    },
    {
      "cell_type": "markdown",
      "source": [
        "Hopefully, you will see the same image rendered early along with the images in the respective colour channels, and you should be able to see which ones share a class from FMNIST and which ones differ. Careful though, as some classes are similar to others."
      ],
      "metadata": {
        "id": "HtFwRP8XQAq9"
      }
    },
    {
      "cell_type": "code",
      "source": [
        "show_mnist_examples(train_x[ri], train_y[ri])"
      ],
      "metadata": {
        "colab": {
          "base_uri": "https://localhost:8080/",
          "height": 928
        },
        "id": "3nBwRxB8QI0J",
        "outputId": "b0eb511c-6aa9-4183-978f-d71caeaaaabc"
      },
      "execution_count": null,
      "outputs": [
        {
          "output_type": "display_data",
          "data": {
            "text/plain": [
              "<Figure size 1200x900 with 4 Axes>"
            ],
            "image/png": "[encoded data removed]"
          },
          "metadata": {}
        }
      ]
    },
    {
      "cell_type": "markdown",
      "source": [
        "## Your answer below"
      ],
      "metadata": {
        "id": "HrKUW_Y9WHRh"
      }
    },
    {
      "cell_type": "code",
      "source": [],
      "metadata": {
        "id": "6FQ4rgPJQMHg"
      },
      "execution_count": null,
      "outputs": []
    },
    {
      "cell_type": "markdown",
      "source": [
        "---\n",
        "---\n",
        "## Project 3: Text dataset (70 marks)\n",
        "\n",
        "Dataset: sentiment analysis dataset (on canvas: (https://ncl.instructure.com/courses/48554/files/6271480?wrap=1), (https://ncl.instructure.com/courses/48554/files/6271483?wrap=1), (https://ncl.instructure.com/courses/48554/files/6271533?wrap=1)).\n",
        "\n",
        "Each sample in the dataset represents a tweet. Each tweet has a sentiment label (Positive, Negative, Neutral).\n",
        "\n",
        "**Task Description:** Apply **a combination of** different approaches including pre-processing techniques, shallow and deep classifiers, ensembled approaches, machine learning approaches beyond supervised learning if applicable, data augmentation if applicable to predict the sentiment of the test set. Try your best to improve the prediction results.\n",
        "\n",
        "Primary **Evaluation metrics: F-1 measure**. Though you should also use others.\n"
      ],
      "metadata": {
        "id": "M_1F7ABnVT1l"
      }
    },
    {
      "cell_type": "markdown",
      "source": [
        "### Part1: Dataset Exploration and Preparation"
      ],
      "metadata": {
        "id": "Eyy4FW0Pe2uI"
      }
    },
    {
      "cell_type": "markdown",
      "source": [
        "#### (i) Dataset exploration\n",
        "\n",
        "- Load dataset, display dataset information, show first few rows of dataset.\n",
        "\n",
        "- Text length analysis datamining: calculate the length of each tweet text and add as new column `'text_length'`.\n",
        "- Text length distribution datatisation: use descriptive statistics to show the distribution of the `'text_length'` column.\n",
        "- Sentiment label distribution visualisation: use Seaborn's `countplot` to visualise the distribution of different sentiment labels in the training set, development set and test set.\n",
        "- Text length distribution visualisation: draw histograms to show the distribution of text length in the training set, development set and test set."
      ],
      "metadata": {
        "id": "DkYLxTgvCPZN"
      }
    },
    {
      "cell_type": "code",
      "source": [
        "import pandas as pd\n",
        "\n",
        "# Load dataset\n",
        "train_df = pd.read_csv('/content/drive/MyDrive/Colab Notebooks/Tweets_train.csv', encoding='ISO-8859-1')\n",
        "dev_df = pd.read_csv('/content/drive/MyDrive/Colab Notebooks/Tweets_dev.csv', encoding='ISO-8859-1')\n",
        "test_df = pd.read_csv('/content/drive/MyDrive/Colab Notebooks/Tweets_test.csv', encoding='ISO-8859-1')\n",
        "\n",
        "# Display basic information about the datasets\n",
        "print(train_df.info())\n",
        "print(dev_df.info())\n",
        "print(test_df.info())"
      ],
      "metadata": {
        "id": "8aNPkjsUXCkf",
        "colab": {
          "base_uri": "https://localhost:8080/"
        },
        "outputId": "e058cddb-2fcf-482b-f1b0-59b5f351f0ba"
      },
      "execution_count": 22,
      "outputs": [
        {
          "output_type": "stream",
          "name": "stdout",
          "text": [
            "<class 'pandas.core.frame.DataFrame'>\n",
            "RangeIndex: 11858 entries, 0 to 11857\n",
            "Data columns (total 3 columns):\n",
            " #   Column             Non-Null Count  Dtype \n",
            "---  ------             --------------  ----- \n",
            " 0   tweet_id           11858 non-null  int64 \n",
            " 1   text               11858 non-null  object\n",
            " 2   airline_sentiment  11858 non-null  object\n",
            "dtypes: int64(1), object(2)\n",
            "memory usage: 278.0+ KB\n",
            "None\n",
            "<class 'pandas.core.frame.DataFrame'>\n",
            "RangeIndex: 1318 entries, 0 to 1317\n",
            "Data columns (total 3 columns):\n",
            " #   Column             Non-Null Count  Dtype \n",
            "---  ------             --------------  ----- \n",
            " 0   tweet_id           1318 non-null   int64 \n",
            " 1   text               1318 non-null   object\n",
            " 2   airline_sentiment  1318 non-null   object\n",
            "dtypes: int64(1), object(2)\n",
            "memory usage: 31.0+ KB\n",
            "None\n",
            "<class 'pandas.core.frame.DataFrame'>\n",
            "RangeIndex: 1464 entries, 0 to 1463\n",
            "Data columns (total 3 columns):\n",
            " #   Column             Non-Null Count  Dtype \n",
            "---  ------             --------------  ----- \n",
            " 0   tweet_id           1464 non-null   int64 \n",
            " 1   text               1464 non-null   object\n",
            " 2   airline_sentiment  1464 non-null   object\n",
            "dtypes: int64(1), object(2)\n",
            "memory usage: 34.4+ KB\n",
            "None\n"
          ]
        }
      ]
    },
    {
      "cell_type": "code",
      "source": [
        "# Display the first few rows of the dataset\n",
        "print(train_df.head())\n",
        "print(dev_df.head())\n",
        "print(test_df.head())"
      ],
      "metadata": {
        "colab": {
          "base_uri": "https://localhost:8080/"
        },
        "id": "KVSAPcZOakJh",
        "outputId": "fa693eec-657d-4ef8-9d97-19056364a717"
      },
      "execution_count": 14,
      "outputs": [
        {
          "output_type": "stream",
          "name": "stdout",
          "text": [
            "             tweet_id                                               text  \\\n",
            "0  569179849518161920                    @united you're good. Thank you!   \n",
            "1  569835751275433984  @AmericanAir way to ruin a vacation, my brothe...   \n",
            "2  568588936852799488  @JetBlue yes thankfully! Catering just got her...   \n",
            "3  569525116725567491  @USAirways The automated message isn't helpful...   \n",
            "4  568807823187976193  @JetBlue I'm #MakingLoveOutofNothingAtAll on m...   \n",
            "\n",
            "  airline_sentiment  \n",
            "0          positive  \n",
            "1          negative  \n",
            "2          positive  \n",
            "3          negative  \n",
            "4          positive  \n",
            "             tweet_id                                               text  \\\n",
            "0  568107472260624384  @southwestair Great job celebrating #MardiGras...   \n",
            "1  568215698524246016  @southwestair thanks for taking it up a notch!...   \n",
            "2  567842466851905536  @USAirways Being put back on hold for what has...   \n",
            "3  568834824410148864  @united Thank you for your offer! All sorted o...   \n",
            "4  569590527349252096  @JetBlue wondering if it's possible for my col...   \n",
            "\n",
            "  airline_sentiment  \n",
            "0          positive  \n",
            "1          positive  \n",
            "2          negative  \n",
            "3          positive  \n",
            "4           neutral  \n",
            "             tweet_id                                               text  \\\n",
            "0  570252000000000000                        @AmericanAir I need refund.   \n",
            "1  568173000000000000  @USAirways after 3 Cancelled Flightlations and...   \n",
            "2  569321000000000000  @JetBlue thanks so much. Can't wait to fly wit...   \n",
            "3  569503000000000000  @united I have never been more frustrated than...   \n",
            "4  568981000000000000  @USAirways - the worst! Hold time crazy, agent...   \n",
            "\n",
            "  airline_sentiment  \n",
            "0          negative  \n",
            "1          negative  \n",
            "2          positive  \n",
            "3          negative  \n",
            "4          negative  \n"
          ]
        }
      ]
    },
    {
      "cell_type": "code",
      "source": [
        "# Analyze the length of each sample\n",
        "train_df['text_length'] = train_df['text'].apply(len)\n",
        "dev_df['text_length'] = dev_df['text'].apply(len)\n",
        "test_df['text_length'] = test_df['text'].apply(len)\n",
        "\n",
        "# Display the distribution of lengths\n",
        "print(train_df['text_length'].describe())\n",
        "print(dev_df['text_length'].describe())\n",
        "print(test_df['text_length'].describe())"
      ],
      "metadata": {
        "colab": {
          "base_uri": "https://localhost:8080/"
        },
        "id": "TbJIXTKLajz9",
        "outputId": "9bfade7f-d90e-417e-9991-3afe20905497"
      },
      "execution_count": 15,
      "outputs": [
        {
          "output_type": "stream",
          "name": "stdout",
          "text": [
            "count    11858.000000\n",
            "mean       104.355878\n",
            "std         36.083324\n",
            "min         12.000000\n",
            "25%         78.000000\n",
            "50%        115.000000\n",
            "75%        136.000000\n",
            "max        229.000000\n",
            "Name: text_length, dtype: float64\n",
            "count    1318.000000\n",
            "mean      103.352049\n",
            "std        37.039623\n",
            "min        13.000000\n",
            "25%        76.000000\n",
            "50%       114.000000\n",
            "75%       136.000000\n",
            "max       176.000000\n",
            "Name: text_length, dtype: float64\n",
            "count    1464.000000\n",
            "mean      102.885929\n",
            "std        36.928576\n",
            "min        15.000000\n",
            "25%        75.750000\n",
            "50%       112.000000\n",
            "75%       136.250000\n",
            "max       162.000000\n",
            "Name: text_length, dtype: float64\n"
          ]
        }
      ]
    },
    {
      "cell_type": "code",
      "source": [
        "import matplotlib.pyplot as plt\n",
        "import seaborn as sns\n",
        "\n",
        "# Sentiment label distribution\n",
        "sns.countplot(x='airline_sentiment', data=train_df)\n",
        "plt.title('Sentiment Distribution in Training Set')\n",
        "plt.show()\n",
        "\n",
        "sns.countplot(x='airline_sentiment', data=dev_df)\n",
        "plt.title('Sentiment Distribution in Dev Set')\n",
        "plt.show()\n",
        "\n",
        "sns.countplot(x='airline_sentiment', data=test_df)\n",
        "plt.title('Sentiment Distribution in Test Set')\n",
        "plt.show()"
      ],
      "metadata": {
        "colab": {
          "base_uri": "https://localhost:8080/",
          "height": 1000
        },
        "id": "Y_zkMJaP6u56",
        "outputId": "e8f136dd-eab0-42f7-c3bc-d855626825d5"
      },
      "execution_count": 16,
      "outputs": [
        {
          "output_type": "display_data",
          "data": {
            "text/plain": [
              "<Figure size 640x480 with 1 Axes>"
            ],
            "image/png": "[encoded data removed]"
          },
          "metadata": {}
        },
        {
          "output_type": "display_data",
          "data": {
            "text/plain": [
              "<Figure size 640x480 with 1 Axes>"
            ],
            "image/png": "[encoded data removed]"
          },
          "metadata": {}
        },
        {
          "output_type": "display_data",
          "data": {
            "text/plain": [
              "<Figure size 640x480 with 1 Axes>"
            ],
            "image/png": "[encoded data removed]"
          },
          "metadata": {}
        }
      ]
    },
    {
      "cell_type": "code",
      "source": [
        "import matplotlib.pyplot as plt\n",
        "\n",
        "# Text length distribution\n",
        "plt.hist(train_df['text_length'], bins=30)\n",
        "plt.title('Text Length Distribution in Training Set')\n",
        "plt.xlabel('Length of Text')\n",
        "plt.ylabel('Frequency')\n",
        "plt.show()\n",
        "\n",
        "plt.hist(dev_df['text_length'], bins=30)\n",
        "plt.title('Text Length Distribution in Dev Set')\n",
        "plt.xlabel('Length of Text')\n",
        "plt.ylabel('Frequency')\n",
        "plt.show()\n",
        "\n",
        "plt.hist(test_df['text_length'], bins=30)\n",
        "plt.title('Text Length Distribution in Test Set')\n",
        "plt.xlabel('Length of Text')\n",
        "plt.ylabel('Frequency')\n",
        "plt.show()"
      ],
      "metadata": {
        "colab": {
          "base_uri": "https://localhost:8080/",
          "height": 1000
        },
        "id": "Cc8ox7Sb7JVi",
        "outputId": "15ba3a65-9e86-4bcd-92bc-0b77673b575b"
      },
      "execution_count": 17,
      "outputs": [
        {
          "output_type": "display_data",
          "data": {
            "text/plain": [
              "<Figure size 640x480 with 1 Axes>"
            ],
            "image/png": "[encoded data removed]"
          },
          "metadata": {}
        },
        {
          "output_type": "display_data",
          "data": {
            "text/plain": [
              "<Figure size 640x480 with 1 Axes>"
            ],
            "image/png": "[encoded data removed]"
          },
          "metadata": {}
        },
        {
          "output_type": "display_data",
          "data": {
            "text/plain": [
              "<Figure size 640x480 with 1 Axes>"
            ],
            "image/png": "[encoded data removed]"
          },
          "metadata": {}
        }
      ]
    },
    {
      "cell_type": "markdown",
      "source": [
        "#### (ii) Data Preprocessing"
      ],
      "metadata": {
        "id": "gA9jd_cUCaDn"
      }
    },
    {
      "cell_type": "markdown",
      "source": [
        "In order to ensure that the model can capture useful semantic information from the text and to reduce the interference of noise on the model's comprehension ability, we implemented the following preprocessing steps on the `text` columns in all datasets:\n",
        "\n",
        "1. **Lowercaseisation**: convert all text content to lowercase.\n",
        "2. **Remove specific characters and patterns**:\n",
        "   - **Remove mentions**: remove all mentions in the form of `@username`, as these usernames do not contribute substantially to the task of sentiment analysis and they are extremely variable and may introduce noise.\n",
        "   - **Tag cleanup**: remove all topic tags of the form `#tag`. Although they can sometimes provide contextual information, in this analysis we decided to exclude their potential impact on the model.\n",
        "   - **link elimination**: remove all URL links, these usually start with `http`. These links do not contain information about affective tendencies needed for sentiment analysis.\n",
        "   - **Non-English Character Filtering**: removes all non-English characters, with the option of removing emoticons in consideration of their possible polysemy in different cultural contexts."
      ],
      "metadata": {
        "id": "4riIDhWUCs-n"
      }
    },
    {
      "cell_type": "code",
      "source": [
        "import re\n",
        "import string\n",
        "\n",
        "def preprocess_text(text):\n",
        "    # Data preprocessing section\n",
        "    # Removing non-semantic parts\n",
        "    text = text.lower()\n",
        "    text = re.sub(r'@\\w+', '', text)           # Remove @mentions\n",
        "    text = re.sub(r'#\\w+', '', text)           # Remove #hashtags.\n",
        "    text = re.sub(r'http\\S+', '', text)        # Remove URLs (http...).\n",
        "    text = re.sub(r'\\d+', '', text)            # Remove numbers.\n",
        "    text = re.sub(r'[^\\x00-\\x7F]+', '', text)  # Remove meaningless non-ASCII characters\n",
        "    return text\n",
        "\n",
        "# Apply the preprocessing function to the 'text' column of each dataset and add a \"text_clean\" column to store the preprocessed data\n",
        "train_df['text_clean'] = train_df['text'].apply(preprocess_text)\n",
        "dev_df['text_clean'] = dev_df['text'].apply(preprocess_text)\n",
        "test_df['text_clean'] = test_df['text'].apply(preprocess_text)\n",
        "\n",
        "# Check the output: Display the first few rows of each dataset to see the data preprocessing results\n",
        "# train_df\n",
        "print(\"Train\")\n",
        "print(train_df['text'].head())\n",
        "print(train_df['airline_sentiment'].head())\n",
        "print(train_df['text_clean'].head())\n",
        "print()\n",
        "\n",
        "# dev_df\n",
        "print(\"Dev\")\n",
        "# print(dev_df['text'].head())\n",
        "print(dev_df['airline_sentiment'].head())\n",
        "print(dev_df['text_clean'].head())\n",
        "print()\n",
        "\n",
        "# test_df\n",
        "print(\"Test\")\n",
        "# print(test_df['text'].head())\n",
        "print(test_df['airline_sentiment'].head())\n",
        "print(test_df['text_clean'].head())"
      ],
      "metadata": {
        "colab": {
          "base_uri": "https://localhost:8080/"
        },
        "id": "VYI0dvmjajID",
        "outputId": "80cc0f41-a5ec-4944-dad9-fd6be4eb246f"
      },
      "execution_count": 18,
      "outputs": [
        {
          "output_type": "stream",
          "name": "stdout",
          "text": [
            "Train\n",
            "0                      @united you're good. Thank you!\n",
            "1    @AmericanAir way to ruin a vacation, my brothe...\n",
            "2    @JetBlue yes thankfully! Catering just got her...\n",
            "3    @USAirways The automated message isn't helpful...\n",
            "4    @JetBlue I'm #MakingLoveOutofNothingAtAll on m...\n",
            "Name: text, dtype: object\n",
            "0    positive\n",
            "1    negative\n",
            "2    positive\n",
            "3    negative\n",
            "4    positive\n",
            "Name: airline_sentiment, dtype: object\n",
            "0                              you're good. thank you!\n",
            "1     way to ruin a vacation, my brother has called...\n",
            "2     yes thankfully! catering just got here and no...\n",
            "3     the automated message isn't helpful and it's ...\n",
            "4                                     i'm  on my  to  \n",
            "Name: text_clean, dtype: object\n",
            "\n",
            "Dev\n",
            "0    positive\n",
            "1    positive\n",
            "2    negative\n",
            "3    positive\n",
            "4     neutral\n",
            "Name: airline_sentiment, dtype: object\n",
            "0     great job celebrating  .  you own the industr...\n",
            "1     thanks for taking it up a notch!! leinenkugel...\n",
            "2     being put back on hold for what has now been ...\n",
            "3         thank you for your offer! all sorted out :-)\n",
            "4     wondering if it's possible for my colleague a...\n",
            "Name: text_clean, dtype: object\n",
            "\n",
            "Test\n",
            "0    negative\n",
            "1    negative\n",
            "2    positive\n",
            "3    negative\n",
            "4    negative\n",
            "Name: airline_sentiment, dtype: object\n",
            "0                                       i need refund.\n",
            "1     after  cancelled flightlations and a delay, c...\n",
            "2     thanks so much. can't wait to fly with you gu...\n",
            "3     i have never been more frustrated than my con...\n",
            "4     - the worst! hold time crazy, agents horrible...\n",
            "Name: text_clean, dtype: object\n"
          ]
        }
      ]
    },
    {
      "cell_type": "markdown",
      "source": [
        "#### (III) Feature Extraction"
      ],
      "metadata": {
        "id": "6Jv-ek8eDCcZ"
      }
    },
    {
      "cell_type": "code",
      "source": [
        "from sklearn.feature_extraction.text import TfidfVectorizer\n",
        "\n",
        "# TF-IDF vectorization\n",
        "tfidf_vectorizer = TfidfVectorizer(max_features=10000)\n",
        "X_train_tfidf = tfidf_vectorizer.fit_transform(train_df['text_clean'])\n",
        "X_dev_tfidf = tfidf_vectorizer.transform(dev_df['text_clean'])\n",
        "X_test_tfidf = tfidf_vectorizer.transform(test_df['text_clean'])\n",
        "\n",
        "# print(X_train_tfidf)\n",
        "# print(X_dev_tfidf)\n",
        "# print(X_test_tfidf)"
      ],
      "metadata": {
        "id": "n3TnZhMZdUI0"
      },
      "execution_count": 19,
      "outputs": []
    },
    {
      "cell_type": "markdown",
      "source": [
        "\n",
        "After completing data cleaning, the text needs to be converted into a numerical format suitable for machine learning model processing. Through the TF-IDF technique\", the weight of common words is reduced and the weight of rare words is enhanced to improve the model's ability to capture key information in the text, which is used as a dataset feature extraction strategy for the baseline model and the model of medium complexity. (Addendum: TF-IDF is a statistical method for assessing the importance of words to a document set or one of the documents in a corpus.)\n",
        "\n",
        "\n",
        "\n",
        "In the above code snippet: a `TfidfVectorizer` object is instantiated, and the `max_features` parameter is set to 10000, which sets the model to consider only the top 10000 most important words in the dataset, thus reducing the computational complexity while maintaining enough feature coverage to capture the key information in the text.\n",
        "\n",
        "\n",
        "Then, the `fit_transform` method is called to train the vectoriser and transform the training set text `train_df['text_clean']` into a TF-IDF matrix `X_train_tfidf`. And using the same vectoriser (keeping the vocabulary learned during training unchanged) the same transformation operation is performed on the development set `dev_df['text_clean']` and the test set `test_df['text_clean']`, generating `X_dev_tfidf` and `X_test_tfidf`.\n",
        "\n",
        "\n",
        "Eventually, these three matrices `X_train_tfidf`, `X_dev_tfidf` and `X_test_tfidf` will be used for subsequent model training. As well as for deep learning models, the data labels are further processed separately instead of using TF-IDF."
      ],
      "metadata": {
        "id": "cKIawqFDDGgE"
      }
    },
    {
      "cell_type": "markdown",
      "source": [
        "### Part2: Alternative Model Selection, Training, Validation, and Evaluation\n",
        "\n",
        "Contains three main parts:\n",
        "1. Alternative model selection\n",
        "2. Alternative model training and validation: performed using default hyperparameters\n",
        "3. Alternative model evaluation: evaluating the F1-Measure values of each model using the development dataset.\n"
      ],
      "metadata": {
        "id": "vGMOGc6gqIwC"
      }
    },
    {
      "cell_type": "markdown",
      "source": [
        "#### (i) Alternative model selection\n",
        "\n",
        "In the model selection phase, the idea is to try to consider different levels of models to get a wider coverage of the test results. Where baseline level models provide results quickly, medium complexity models provide a balance between performance and computational cost, and deep learning models are computationally expensive but usually achieve the best performance.\n",
        "\n",
        "Therefore one of each of the level models is selected for further training and validation:\n",
        "1. Baseline Model - Logistic Regression: is a simple and widely used classification algorithm that typically provides a strong baseline on a variety of text classification tasks.\n",
        "2. Medium complexity model - Support Vector Machine (SVM): usually performs well on textual data and performs classification by finding optimal boundaries between data classes.\n",
        "3. Deep learning model - Transformer model (DistilBERT): BERT is a relatively mature model based on a large amount of data pre-training, usually able to quickly achieve a high level of accuracy on a smaller amount of custom data, DistilBERT is a lighter version of BERT, which can maintain the performance of the original BERT model while reducing the size and computational requirements, which is more suitable for GNU. DistilBERT is a lightweight version of BERT that maintains the performance of the original BERT model while reducing the model size and computation requirements, which is more suitable for Google-colab's operating environment."
      ],
      "metadata": {
        "id": "ncW0LBFNFJVf"
      }
    },
    {
      "cell_type": "markdown",
      "source": [
        "#### (ii) Alternative model training and validation: using default hyperparameters\n",
        "\n",
        "In the training and validation section, `train_df` is used to train the models, and `dev_df is used for model performance evaluation (F1 score)."
      ],
      "metadata": {
        "id": "evbhw5tMFR1W"
      }
    },
    {
      "cell_type": "markdown",
      "source": [
        "##### 1. Logistic Regression"
      ],
      "metadata": {
        "id": "Dx2wtPopS-VY"
      }
    },
    {
      "cell_type": "code",
      "source": [
        "from sklearn.linear_model import LogisticRegression\n",
        "from sklearn.metrics import f1_score\n",
        "\n",
        "# Initialize the Logistic Regression model\n",
        "lr_model = LogisticRegression(random_state=0)\n",
        "# Train the model\n",
        "lr_model.fit(X_train_tfidf, train_df['airline_sentiment'])\n",
        "\n",
        "# Evaluate F1 score on the development set\n",
        "lr_predictions = lr_model.predict(X_dev_tfidf)\n",
        "lr_f1 = f1_score(dev_df['airline_sentiment'], lr_predictions, average='macro')\n",
        "print(f'Logistic Regression F1 Score on Dev Set: {lr_f1}')"
      ],
      "metadata": {
        "colab": {
          "base_uri": "https://localhost:8080/"
        },
        "id": "CDzvV7X8S_WO",
        "outputId": "5025a6df-ab4b-40f4-84a6-23214f9e1c48"
      },
      "execution_count": 11,
      "outputs": [
        {
          "output_type": "stream",
          "name": "stdout",
          "text": [
            "Logistic Regression F1 Score on Dev Set: 0.7040136246547096\n"
          ]
        },
        {
          "output_type": "stream",
          "name": "stderr",
          "text": [
            "/usr/local/lib/python3.10/dist-packages/sklearn/linear_model/_logistic.py:458: ConvergenceWarning: lbfgs failed to converge (status=1):\n",
            "STOP: TOTAL NO. of ITERATIONS REACHED LIMIT.\n",
            "\n",
            "Increase the number of iterations (max_iter) or scale the data as shown in:\n",
            "    https://scikit-learn.org/stable/modules/preprocessing.html\n",
            "Please also refer to the documentation for alternative solver options:\n",
            "    https://scikit-learn.org/stable/modules/linear_model.html#logistic-regression\n",
            "  n_iter_i = _check_optimize_result(\n"
          ]
        }
      ]
    },
    {
      "cell_type": "markdown",
      "source": [
        "#####2. Support Vector Machine (SVM)"
      ],
      "metadata": {
        "id": "xovxCqwaeF6o"
      }
    },
    {
      "cell_type": "code",
      "source": [
        "from sklearn.svm import SVC\n",
        "from sklearn.metrics import f1_score\n",
        "\n",
        "# Initialize the SVM model\n",
        "svm_model = SVC(kernel='linear', C=1, random_state=0)\n",
        "# Train the model\n",
        "svm_model.fit(X_train_tfidf, train_df['airline_sentiment'])\n",
        "\n",
        "# Evaluate F1 score on the development set\n",
        "svm_predictions = svm_model.predict(X_dev_tfidf)\n",
        "svm_f1 = f1_score(dev_df['airline_sentiment'], svm_predictions, average='macro')\n",
        "print(f'Support Vector Machine F1 Score on Dev Set: {svm_f1}')"
      ],
      "metadata": {
        "colab": {
          "base_uri": "https://localhost:8080/"
        },
        "id": "fIURXSsmeGi0",
        "outputId": "0ec288f5-2cd1-4f3d-a3f1-514a656ec41b"
      },
      "execution_count": 12,
      "outputs": [
        {
          "output_type": "stream",
          "name": "stdout",
          "text": [
            "Support Vector Machine F1 Score on Dev Set: 0.7154012314017267\n"
          ]
        }
      ]
    },
    {
      "cell_type": "markdown",
      "source": [
        "##### 3. Deep learning model - Transformer model (DistilBERT)"
      ],
      "metadata": {
        "id": "TIpPW-mDbz01"
      }
    },
    {
      "cell_type": "code",
      "source": [
        "!pip install transformers"
      ],
      "metadata": {
        "colab": {
          "base_uri": "https://localhost:8080/"
        },
        "id": "qRV1-dy0g3ry",
        "outputId": "2605a4ea-55e0-4674-9e48-1e5b66acbb71"
      },
      "execution_count": 20,
      "outputs": [
        {
          "output_type": "stream",
          "name": "stdout",
          "text": [
            "Requirement already satisfied: transformers in /usr/local/lib/python3.10/dist-packages (4.35.2)\n",
            "Requirement already satisfied: filelock in /usr/local/lib/python3.10/dist-packages (from transformers) (3.13.1)\n",
            "Requirement already satisfied: huggingface-hub<1.0,>=0.16.4 in /usr/local/lib/python3.10/dist-packages (from transformers) (0.19.4)\n",
            "Requirement already satisfied: numpy>=1.17 in /usr/local/lib/python3.10/dist-packages (from transformers) (1.23.5)\n",
            "Requirement already satisfied: packaging>=20.0 in /usr/local/lib/python3.10/dist-packages (from transformers) (23.2)\n",
            "Requirement already satisfied: pyyaml>=5.1 in /usr/local/lib/python3.10/dist-packages (from transformers) (6.0.1)\n",
            "Requirement already satisfied: regex!=2019.12.17 in /usr/local/lib/python3.10/dist-packages (from transformers) (2023.6.3)\n",
            "Requirement already satisfied: requests in /usr/local/lib/python3.10/dist-packages (from transformers) (2.31.0)\n",
            "Requirement already satisfied: tokenizers<0.19,>=0.14 in /usr/local/lib/python3.10/dist-packages (from transformers) (0.15.0)\n",
            "Requirement already satisfied: safetensors>=0.3.1 in /usr/local/lib/python3.10/dist-packages (from transformers) (0.4.1)\n",
            "Requirement already satisfied: tqdm>=4.27 in /usr/local/lib/python3.10/dist-packages (from transformers) (4.66.1)\n",
            "Requirement already satisfied: fsspec>=2023.5.0 in /usr/local/lib/python3.10/dist-packages (from huggingface-hub<1.0,>=0.16.4->transformers) (2023.6.0)\n",
            "Requirement already satisfied: typing-extensions>=3.7.4.3 in /usr/local/lib/python3.10/dist-packages (from huggingface-hub<1.0,>=0.16.4->transformers) (4.5.0)\n",
            "Requirement already satisfied: charset-normalizer<4,>=2 in /usr/local/lib/python3.10/dist-packages (from requests->transformers) (3.3.2)\n",
            "Requirement already satisfied: idna<4,>=2.5 in /usr/local/lib/python3.10/dist-packages (from requests->transformers) (3.6)\n",
            "Requirement already satisfied: urllib3<3,>=1.21.1 in /usr/local/lib/python3.10/dist-packages (from requests->transformers) (2.0.7)\n",
            "Requirement already satisfied: certifi>=2017.4.17 in /usr/local/lib/python3.10/dist-packages (from requests->transformers) (2023.11.17)\n"
          ]
        }
      ]
    },
    {
      "cell_type": "code",
      "source": [
        "import tensorflow as tf\n",
        "from transformers import DistilBertTokenizerFast, TFDistilBertForSequenceClassification\n",
        "from sklearn.preprocessing import LabelEncoder\n",
        "from tensorflow.keras.utils import to_categorical\n",
        "\n",
        "# Initialize DistilBERT tokenizer\n",
        "tokenizer = DistilBertTokenizerFast.from_pretrained('distilbert-base-uncased')\n",
        "\n",
        "# Tokenize and encode sequences in the training set\n",
        "train_encodings = tokenizer(train_df['text_clean'].tolist(), truncation=True, padding=True, max_length=128)\n",
        "dev_encodings = tokenizer(dev_df['text_clean'].tolist(), truncation=True, padding=True, max_length=128)\n",
        "\n",
        "# Encode labels\n",
        "label_encoder = LabelEncoder()\n",
        "train_labels = label_encoder.fit_transform(train_df['airline_sentiment'])\n",
        "dev_labels = label_encoder.transform(dev_df['airline_sentiment'])\n",
        "\n",
        "# Convert labels to categorical one-hot encoding\n",
        "train_labels = to_categorical(train_labels, num_classes=3)\n",
        "dev_labels = to_categorical(dev_labels, num_classes=3)\n",
        "\n",
        "# Convert encoded labels to Tensorflow datasets\n",
        "train_dataset = (\n",
        "    tf.data.Dataset.from_tensor_slices((dict(train_encodings), train_labels))\n",
        "    .shuffle(buffer_size=len(train_labels))\n",
        "    .batch(32)\n",
        ")\n",
        "dev_dataset = (\n",
        "    tf.data.Dataset.from_tensor_slices((dict(dev_encodings), dev_labels))\n",
        "    .batch(32)\n",
        ")\n",
        "\n",
        "# Load the TensorFlow DistilBERT model\n",
        "model = TFDistilBertForSequenceClassification.from_pretrained('distilbert-base-uncased', num_labels=3)\n",
        "\n",
        "# Compile the model\n",
        "optimizer = tf.keras.optimizers.Adam(learning_rate=5e-5)\n",
        "loss = tf.keras.losses.CategoricalCrossentropy(from_logits=True)\n",
        "metric = tf.keras.metrics.CategoricalAccuracy('accuracy')\n",
        "\n",
        "model.compile(optimizer=optimizer, loss=loss, metrics=[metric])\n",
        "\n",
        "# Train the model\n",
        "history = model.fit(train_dataset, epochs=3, validation_data=dev_dataset)"
      ],
      "metadata": {
        "colab": {
          "base_uri": "https://localhost:8080/",
          "height": 388,
          "referenced_widgets": [
            "8ee8b144bb5e412ab49da2e9fe5c515e",
            "1940eed97adf4664b1ad557ee20097b5",
            "a56062eeb2b942199e8d0d99bed22a9b",
            "f1d3f9c6af4943ee8070efbe14ffab95",
            "44d0ef509ff94698b7480e0cd9491f9c",
            "2422480b6af54de3ae1cad8967618ea7",
            "dab27f0ed6f34830b5b774fb6d23858b",
            "4dfab763189a489ea468d5372c40c846",
            "8e672982dc714f1983d540101190171d",
            "2cd399cc5c174bae94fa92b5ae944c99",
            "adde83c01eda4285a1d863f01da600bd",
            "249c70659824498a8fa1f7fe8c7817eb",
            "898d62482b194bdf8590de7b1815a50c",
            "4a49f850aa8748ac80745060822d689d",
            "b66b7d991fa045c78e95eac84c4d3990",
            "11e32ce485b145ef8964f7d0a1e43ba2",
            "3cf3c6cd87ba4fcb91ac85e2e7ae9bea",
            "50936a0b8ed345dcaf621ca5b28798b1",
            "747623c9abe14213892b0422384df581",
            "edf7b7236d984ad79a37c2170c351170",
            "9faf7c4eba984ccb9220a85283a6785b",
            "ca2732dce613438f8f2365857400a0c8",
            "a1035cab5dc845a6ab77316ab2cfa03e",
            "befca395ae624e22971cd823070cec7c",
            "5dceed9f7deb4af8a6b6d753189cbee5",
            "509f839be23c42539babfa0b01bea9e9",
            "3a32c03c765349c3af0d698504730006",
            "1828309fc6e04d8e892efc023c7e6254",
            "469099b413294aad829e4863f9d98200",
            "48bfbcee245e4540a32fb556575da664",
            "8cba2d95b89e4faea7d8452b22ad6b8c",
            "b78bce316105416a9eea681ba80b6934",
            "2e1aeda5f6c7449da2798faebdab50e9",
            "3166bac4ecbe46629307f33e327ed9e4",
            "468689b765884c0db7c448cbcfe81aa7",
            "f1f36fdc5f104e1d9ce6668a750384b7",
            "762169f3e6a44d929cf3d977f5f4cbb9",
            "9994b41f272f44ab8cde5b904734a890",
            "001ace3c61e9484382eb6a33d3dd7fb6",
            "f028c22e7bea46e8909983d3e1ab7d28",
            "47eeb80da6c8427d905fe812512a8e9e",
            "90dc4f08fb9140da8491894969e77133",
            "4301bcf358004457be6553c3eaf61e55",
            "98a1b44daae9454c9808897453dd6c6c",
            "0658a8950e9e411f896a66444e97a882",
            "8ec13cdcc96c429b9656fb1742bb9800",
            "e1ef62df07de4547a8ee835f76fa9383",
            "5a291834b8814282a6bba6737a1078c2",
            "a4d36837477546d8a0428f442b7f7362",
            "58a810af1faa4a04a7bf135275ecbef4",
            "1fb33051462a406b9c943a121765f3cc",
            "0f2ff41081d249cfb908e459341f0168",
            "9aa48a30413e4846a89eaea76e5b8229",
            "10751755b99e48e0a0e95d419797dd09",
            "b5bab1b4cca7428d8a8a8e34f5af42b5"
          ]
        },
        "id": "oNhISy0ag6Ee",
        "outputId": "3937a636-742d-4599-cb6e-d4442bbc8f22"
      },
      "execution_count": 21,
      "outputs": [
        {
          "data": {
            "application/vnd.jupyter.widget-view+json": {
              "model_id": "8ee8b144bb5e412ab49da2e9fe5c515e",
              "version_major": 2,
              "version_minor": 0
            },
            "text/plain": [
              "tokenizer_config.json:   0%|          | 0.00/28.0 [00:00<?, ?B/s]"
            ]
          },
          "metadata": {},
          "output_type": "display_data"
        },
        {
          "data": {
            "application/vnd.jupyter.widget-view+json": {
              "model_id": "249c70659824498a8fa1f7fe8c7817eb",
              "version_major": 2,
              "version_minor": 0
            },
            "text/plain": [
              "vocab.txt:   0%|          | 0.00/232k [00:00<?, ?B/s]"
            ]
          },
          "metadata": {},
          "output_type": "display_data"
        },
        {
          "data": {
            "application/vnd.jupyter.widget-view+json": {
              "model_id": "a1035cab5dc845a6ab77316ab2cfa03e",
              "version_major": 2,
              "version_minor": 0
            },
            "text/plain": [
              "tokenizer.json:   0%|          | 0.00/466k [00:00<?, ?B/s]"
            ]
          },
          "metadata": {},
          "output_type": "display_data"
        },
        {
          "data": {
            "application/vnd.jupyter.widget-view+json": {
              "model_id": "3166bac4ecbe46629307f33e327ed9e4",
              "version_major": 2,
              "version_minor": 0
            },
            "text/plain": [
              "config.json:   0%|          | 0.00/483 [00:00<?, ?B/s]"
            ]
          },
          "metadata": {},
          "output_type": "display_data"
        },
        {
          "data": {
            "application/vnd.jupyter.widget-view+json": {
              "model_id": "0658a8950e9e411f896a66444e97a882",
              "version_major": 2,
              "version_minor": 0
            },
            "text/plain": [
              "model.safetensors:   0%|          | 0.00/268M [00:00<?, ?B/s]"
            ]
          },
          "metadata": {},
          "output_type": "display_data"
        },
        {
          "metadata": {
            "tags": null
          },
          "name": "stderr",
          "output_type": "stream",
          "text": [
            "Some weights of the PyTorch model were not used when initializing the TF 2.0 model TFDistilBertForSequenceClassification: ['vocab_projector.bias', 'vocab_layer_norm.weight', 'vocab_transform.weight', 'vocab_layer_norm.bias', 'vocab_transform.bias']\n",
            "- This IS expected if you are initializing TFDistilBertForSequenceClassification from a PyTorch model trained on another task or with another architecture (e.g. initializing a TFBertForSequenceClassification model from a BertForPreTraining model).\n",
            "- This IS NOT expected if you are initializing TFDistilBertForSequenceClassification from a PyTorch model that you expect to be exactly identical (e.g. initializing a TFBertForSequenceClassification model from a BertForSequenceClassification model).\n",
            "Some weights or buffers of the TF 2.0 model TFDistilBertForSequenceClassification were not initialized from the PyTorch model and are newly initialized: ['pre_classifier.weight', 'pre_classifier.bias', 'classifier.weight', 'classifier.bias']\n",
            "You should probably TRAIN this model on a down-stream task to be able to use it for predictions and inference.\n"
          ]
        },
        {
          "output_type": "stream",
          "name": "stdout",
          "text": [
            "Epoch 1/3\n",
            "371/371 [==============================] - 4108s 11s/step - loss: 0.4956 - accuracy: 0.7982 - val_loss: 0.4463 - val_accuracy: 0.8240\n",
            "Epoch 2/3\n",
            "371/371 [==============================] - 3971s 11s/step - loss: 0.3060 - accuracy: 0.8854 - val_loss: 0.4650 - val_accuracy: 0.8293\n",
            "Epoch 3/3\n",
            "371/371 [==============================] - 4214s 11s/step - loss: 0.1789 - accuracy: 0.9384 - val_loss: 0.5784 - val_accuracy: 0.8209\n"
          ]
        }
      ]
    },
    {
      "cell_type": "code",
      "source": [
        "from sklearn.metrics import f1_score\n",
        "import numpy as np\n",
        "\n",
        "def compute_f1_score(model, validation_data):\n",
        "    # Ensure true_labels are gathered correctly\n",
        "    true_labels = np.concatenate([y.numpy() for x, y in validation_data], axis=0)\n",
        "    preds = model.predict(validation_data)\n",
        "    pred_labels = np.argmax(preds.logits, axis=1)\n",
        "\n",
        "    # If true_labels is one-dimensional, it means it's already in the correct form\n",
        "    if true_labels.ndim == 1:\n",
        "        f1 = f1_score(true_labels, pred_labels, average='macro')\n",
        "    else:\n",
        "        # Use argmax on axis=1 if true_labels is two-dimensional\n",
        "        f1 = f1_score(true_labels.argmax(axis=1), pred_labels, average='macro')\n",
        "\n",
        "    return f1\n",
        "\n",
        "f1_score = compute_f1_score(model, dev_dataset)\n",
        "print(\"F1 Score on Dev Set:\", f1_score)"
      ],
      "metadata": {
        "colab": {
          "base_uri": "https://localhost:8080/"
        },
        "id": "MbLWf0RQ4_ng",
        "outputId": "73524e74-894e-4f78-d652-5c6e1fee67d1"
      },
      "execution_count": 25,
      "outputs": [
        {
          "output_type": "stream",
          "name": "stdout",
          "text": [
            "42/42 [==============================] - 132s 3s/step\n",
            "F1 Score on Dev Set: 0.7571508842966459\n"
          ]
        }
      ]
    },
    {
      "cell_type": "markdown",
      "source": [
        "#### (iii) Alternative Model Evaluation: Based on the F1-Measure values.\n",
        "\n",
        "F1-measure scoring results for the three models obtained after completing the code run for the above three models:\n",
        "\n",
        "1. Logistic Regression F1 Score on Dev Set: 0.7040136246547096. 2;\n",
        "2. Support Vector Machine F1 Score on Dev Set: 0.7154012314017267;\n",
        "3. DistilBERT model run: F1 Score on Dev Set: 0.7571508842966459；\n",
        "\n",
        "The F1 scores of the three models are very close, with the DistilBERT model slightly ahead. When deciding how to choose a model to optimise next, considering that DistilBERT is already a relatively mature model, and the small increase in its performance after optimisation may not be worth the longer training time or greater resource requirements, I would choose the SVM model, which is slightly less powerful but less computationally expensive, to optimise. Another consideration is that if the decision is made to further optimise the SVM model, the F1 scores of Logistic Regression and DistilBERT at this step can be used as good reference data when evaluating the results of the SVM model optimisation."
      ],
      "metadata": {
        "id": "DWYvLE1MF9Lo"
      }
    },
    {
      "cell_type": "markdown",
      "source": [
        "### Part3: SVM Model Optimisation\n",
        "\n",
        "SVM model with default hyperparameters running f1 Result: Support Vector Machine F1 Score on Dev Set: 0.7154012314017267;"
      ],
      "metadata": {
        "id": "KprURNdQsRDp"
      }
    },
    {
      "cell_type": "markdown",
      "source": [
        "#### (i) SVM Model Optimisation Purpose: Improving F-1 Measure Score\n",
        "\n",
        "The F1 score is the reconciled average of Precision and Recall, which is commonly used to evaluate the performance of classification models, especially when the data categories are unbalanced.The formula for calculating the F1 score is F1 = 2 × (Precision × Recall)/(Precision + Recall). Where precision rate is the proportion of samples correctly predicted as positive categories to all samples predicted as positive categories. Recall is the proportion of samples correctly predicted to be in the positive category to all samples that are actually in the positive category.\n",
        "\n",
        "Improving F1 scores usually involves finding a balance between precision and recall. Improving either of these two metrics may improve the F1 score, but in practice, improving one may lead to a decrease in the other, so it is necessary to try to find an appropriate balance in hyperparameter optimisation."
      ],
      "metadata": {
        "id": "YktsYVx4Hcaw"
      }
    },
    {
      "cell_type": "markdown",
      "source": [
        "#### (ii) General tuning strategy for SVM models\n",
        "\n",
        "1. Adjust the regularisation parameter (C):The regularisation parameter C controls the model's tolerance to classification error. Smaller values of C make the model more tolerant of error, while larger values of C make the model punish error more severely. Adjusting the C value can help find a balance between overfitting and underfitting, which may improve the F1 score. The optimal setting can be found by trying different C values through a grid search.\n",
        "2. Try different kernel functions: SVMs use kernel functions to transform data so that non-linearly differentiable data is linearly differentiable in a high dimensional space. Commonly used kernel functions include linear kernel, polynomial kernel (poly), radial basis function (RBF) kernel, and so on. For nonlinearly differentiable data, nonlinear kernels may provide better results. Different kernel functions are suitable for different types of data distributions, but the exact suitability needs to be judged by observing the training data.\n",
        "3. Class Weight Adjustment: In the case of a dataset with imbalanced classes, adjusting the class weights can give higher weights to a few classes, thus improving the model's prediction ability for these classes. It is beneficial to improve the recall rate, especially for a few classes. class_weight parameter of SVC class can be set to 'balanced' to automatically adjust the weight according to the class frequency.\n",
        "4. Hyperparameter optimisation: use GridSearchCV to find the best hyperparameter combination."
      ],
      "metadata": {
        "id": "qKj2GBdNHrBk"
      }
    },
    {
      "cell_type": "markdown",
      "source": [
        "#### (iii) Hyper-parameter optimisation: using GridSearchCV to find the best combination of hyper-parameters\n",
        "\n",
        "**Explanation of each parameter set in GridSearchCV in the code:**\n",
        "\n",
        "1. svm_model: An instance of a Support Vector Machine (SVM) model for hyperparameter tuning;\n",
        "\n",
        "2. param_grid: a list of parameters that GridSearchCV will iterate through to find the best model configuration.\n",
        "\n",
        "    Where: the roles of 'C', 'kernel', 'class_weight' have already been described, and 'gamma' is a parameter of the RBF kernel.\n",
        "\n",
        "3. cv=5: The number of folds for cross validation. Here it is set to 5 to indicate that 5-fold cross-validation is used. In this case, the dataset is divided into 5 equal parts and the model is trained 5 times, using 4 parts as training data each time and the remaining 1 part as test data, and finally the average result of these 5 evaluations is taken.\n",
        "\n",
        "4. scoring='f1_macro': defines that the model is evaluated by using the macro average of the F1 scores as a scoring criterion, thus calculating the F1 scores for each category separately and then averaging all the values. This gives equal importance to all categories, even if they have different sample sizes.\n",
        "\n",
        "5. n_jobs=-1: Specifies the number of jobs to run in parallel. n_jobs=-1 means that all CPU cores are used for parallel processing, which can speed up the search process;\n",
        "\n",
        "6. verbose=2: controls the level of detail of the printout information to assist in observing the progress and status of cross-validation;"
      ],
      "metadata": {
        "id": "Q0WDfnlNH6ur"
      }
    },
    {
      "cell_type": "code",
      "source": [
        "from sklearn.svm import SVC\n",
        "from sklearn.metrics import f1_score\n",
        "from sklearn.model_selection import GridSearchCV\n",
        "\n",
        "# Define parameter ranges\n",
        "param_grid = {\n",
        "    'C': [0.1, 1, 10, 100],\n",
        "    'kernel': ['linear', 'rbf'],\n",
        "    'class_weight': [None, 'balanced'],\n",
        "    'gamma': ['scale', 'auto']\n",
        "}\n",
        "\n",
        "# Initialize the SVM model\n",
        "svm_model = SVC(random_state=0)\n",
        "\n",
        "# Perform hyperparameter optimization using grid search\n",
        "grid_search = GridSearchCV(svm_model, param_grid, cv=5, scoring='f1_macro', n_jobs=-1, verbose=3)\n",
        "grid_search.fit(X_train_tfidf, train_df['airline_sentiment'])\n",
        "\n",
        "# Output the best parameters and corresponding F1 score\n",
        "print(f\"Best parameters: {grid_search.best_params_}\")\n",
        "print(f\"Best F1 Score on Dev Set: {grid_search.best_score_}\")\n",
        "\n",
        "# Evaluate F1 score on the development set using the best parameters\n",
        "best_svm = grid_search.best_estimator_\n",
        "svm_predictions = best_svm.predict(X_dev_tfidf)\n",
        "svm_f1 = f1_score(dev_df['airline_sentiment'], svm_predictions, average='macro')\n",
        "print(f'Support Vector Machine F1 Score with Best Params on Dev Set: {svm_f1}')"
      ],
      "metadata": {
        "colab": {
          "base_uri": "https://localhost:8080/"
        },
        "id": "2igd6CA2tv38",
        "outputId": "fc49a9c1-3653-4873-e699-f75d82be39b7"
      },
      "execution_count": 21,
      "outputs": [
        {
          "output_type": "stream",
          "name": "stdout",
          "text": [
            "Fitting 5 folds for each of 32 candidates, totalling 160 fits\n",
            "Best parameters: {'C': 1, 'class_weight': 'balanced', 'gamma': 'scale', 'kernel': 'rbf'}\n",
            "Best F1 Score on Dev Set: 0.7457918798698581\n",
            "Support Vector Machine F1 Score with Best Params on Dev Set: 0.7145298308436753\n"
          ]
        }
      ]
    },
    {
      "cell_type": "markdown",
      "source": [
        "From the running results can be seen:\n",
        "\n",
        "1. the best combination of parameters was determined by GridSearchCV;\n",
        "\n",
        "2. two F1 scores were obtained, respectively:\n",
        "\n",
        "   - Best F1 Score on Dev Set: 0.745791878968581;\n",
        "\n",
        "   - Support Vector Machine F1 Score with Best Params on Dev Set: 0.7145298308436753;"
      ],
      "metadata": {
        "id": "1BORN7CQIcCe"
      }
    },
    {
      "cell_type": "markdown",
      "source": [
        "### Part4: Training on the test set and obtaining an F1 score\n",
        "\n",
        "Once the best combination of parameters has been determined through GridSearchCV, a new instance of the SVM model can be created using the best parameter settings found and this model can be trained using the entire training set. Use the test set test_df to make predictions and calculate the accuracy and F1 score.\n",
        "\n",
        "The results of the run are as follows:\n",
        "\n",
        "- Accuracy on Test Set: 0.7950819672131147\n",
        "\n",
        "- F1 Score on Test Set: 0.738327921696448"
      ],
      "metadata": {
        "id": "P0q2lj1sJLkF"
      }
    },
    {
      "cell_type": "code",
      "source": [
        "from sklearn.svm import SVC\n",
        "from sklearn.metrics import accuracy_score, f1_score\n",
        "\n",
        "# Create a new SVM instance with the best parameters found using GridSearchCV\n",
        "best_params = {'C': 1, 'class_weight': 'balanced', 'gamma': 'scale', 'kernel': 'rbf'}\n",
        "best_svm_model = SVC(**best_params)\n",
        "\n",
        "# Train the model using the entire training set\n",
        "best_svm_model.fit(X_train_tfidf, train_df['airline_sentiment'])\n",
        "\n",
        "# Make predictions using the test set\n",
        "test_predictions = best_svm_model.predict(X_test_tfidf)\n",
        "\n",
        "# Calculate and output accuracy and F1 score\n",
        "test_accuracy = accuracy_score(test_df['airline_sentiment'], test_predictions)\n",
        "test_f1 = f1_score(test_df['airline_sentiment'], test_predictions, average='macro')\n",
        "print(\"Accuracy on Test Set:\", test_accuracy)\n",
        "print(\"F1 Score on Test Set:\", test_f1)"
      ],
      "metadata": {
        "colab": {
          "base_uri": "https://localhost:8080/"
        },
        "id": "JKjEyzMZNtsN",
        "outputId": "0390baac-c9e0-4540-c57f-910b91ff040e"
      },
      "execution_count": 22,
      "outputs": [
        {
          "output_type": "stream",
          "name": "stdout",
          "text": [
            "Accuracy on Test Set: 0.7950819672131147\n",
            "F1 Score on Test Set: 0.738327921696448\n"
          ]
        }
      ]
    },
    {
      "cell_type": "markdown",
      "source": [
        "### Part5: Analysis of Model Optimisation Results\n",
        "\n",
        "Since the results of each run are found to be relatively stable after multiple trials, the results of the most recent run are taken here as an example, and the model optimisation results are displayed and analysed with reference to the F1 scores of Logistic Regression and DistilBERT in Part2:\n",
        "\n",
        "(i) Results data comparison display (F1-Measure score)\n",
        "\n",
        "- (Unoptimised baseline model) Logistic Regression F1 Score on Dev Set: 0.7040136246547096\n",
        "- (Unoptimised advanced model) DistilBERT F1 Score on Dev Set: 0.7571508842966459\n",
        "- (Unoptimised SVM) Support Vector Machine F1 Score on Dev Set: 0.7154012314017267\n",
        "- (Optimised SVM) F1 Score on Test Set: 0.738327921696448\n",
        "\n",
        "From the console output of the previous DistilBERT model training, the average accuracy of the DistilBERT model is approximately: val_accuracy: 0.8240 and the optimised SVM model prediction accuracy: 0.7950819672131147.\n",
        "\n",
        "(ii) Conclusion can be drawn from the above data:\n",
        "\n",
        "By comparing the F1 scores of the SVM model on the development set before and after optimisation, we can see a certain degree of performance improvement. Before optimisation, the SVM model had an F1 score of 0.7154 on the development set and 0.7383 on the test set, indicating that the model optimisation strategy effectively improves the balance of the model's prediction of sentiment labels, especially when dealing with more challenging unseen data.\n",
        "\n",
        "Compared to the baseline model logistic regression, the optimised SVM model shows better performance, with its F1 score on the development set improving from 0.7040 to 0.7383, which further validates that the SVM model strikes a better balance between complexity and accuracy through hyperparameter tuning.\n",
        "\n",
        "When compared with the DistilBERT model, although DistilBERT has a slightly higher F1 score on the development set (0.757), the optimised SVM exhibits a fairly competitive performance on the test set (F1 score of 0.7383), while being more efficient in terms of computational cost and resource consumption. This result suggests that even with limited computational resources, performance comparable to advanced models can still be achieved through appropriate model selection and parameter tuning.\n",
        "\n",
        "In summary, the optimisation strategy for the SVM model not only improves the performance of the model on the development set, but also demonstrates the robustness of the model on the test set. This highlights the importance of hyperparameter optimisation in improving model performance, especially when dealing with data with different distributions. In addition, it also shows that when choosing models and optimisation strategies, it is important to take into account both model performance and computational resource constraints in order to find the most suitable solution for a particular application scenario."
      ],
      "metadata": {
        "id": "fhYPVFdWJ4mU"
      }
    },
    {
      "cell_type": "markdown",
      "source": [
        "---\n",
        "---\n",
        "## Project 4: Time-serise dataset (70 marks)\n",
        "\n",
        "The Weather dataset is a time-series dataset collected by a Raspberry Pi computer at a home in Newcastle. It contains a bunch of different features about the weather collected over an approximate 12-month period. The features are as follows:\n",
        "\n",
        "| Column no | Feature                                                  |\n",
        "|-----------|----------------------------------------------------------|\n",
        "|         1 | Date and time in standard Linux format                   |\n",
        "|         2 | Temperature from the first internal sensor (Celsius)     |\n",
        "|         3 | Outside temperature (Celsius)                            |\n",
        "|         4 | CPU Temperature (Celsius)                                |\n",
        "|         5 | Count (always 1)                                         |\n",
        "|         6 | Temperature from the second internal sensor (Celsius)    |\n",
        "|         7 | Air Pressure (mmHg)                                      |\n",
        "|         8 | Humidity (percentage)                                    |\n",
        "\n",
        "Readings are measured in one-minute intervals between November 2021 and December 2022. Your task is to try and predict future values 5, 10, 15, 30 minutes into the future along with 1, 2, 6 and 12 hours into the future. I.e. given a time-sequence of measurements before 10:20am on Friday 3rd June 2022 how accurately can you predict the values for 10:25, 10:30, 10:35 and 10:50am and for 11:20, 12:20, 16:20 and 22:20. You can do this for any of the 6 weather features (not date or count). You should separate out a test set of the last 2 months of data (you need to have a continuous and separate test set to prevent leakage between training and testing).\n",
        "\n",
        "The dataset can be downloaded from:\n",
        "http://homepages.cs.ncl.ac.uk/stephen.mcgough/data/weather.csv\n",
        "\n",
        "Some hints:\n",
        "- There is some code below which shows you how to load and view the data to get you started.\n",
        "- In order to score top marks for this dataset you should demonstrate multiple models, at least one of them should not use Deep Learning.\n",
        "- To speed up your work here are some hints (assuming you’re using Colab):\n",
        " - Make sure you set the Runtime type to either GPU or TPU.\n",
        " - Copy the data to your Google drive so you don’t have to keep uploading it.\n",
        " - As the dataset is large you might want to do some of your initial testing on a subset of the data."
      ],
      "metadata": {
        "id": "CcJGyPXwXDSc"
      }
    },
    {
      "cell_type": "markdown",
      "source": [
        "### Access to the files\n",
        "\n",
        "The file is available from: http://homepages.cs.ncl.ac.uk/stephen.mcgough/data/log.txt\n",
        "\n",
        "You can upload the file each time you use them, but this might take some time as they are quite large. An eisier option is to uploade them to a Google drive folder and mount this.\n",
        "\n",
        "Full information on how to do this can be found at: https://colab.research.google.com/notebooks/io.ipynb\n",
        "\n",
        "In the code below I have created a folder in Google drive called data and placed the file above in it."
      ],
      "metadata": {
        "id": "3zgvwly0Y4fF"
      }
    },
    {
      "cell_type": "code",
      "source": [
        "# to access google drive folder\n",
        "from google.colab import drive\n",
        "drive.mount('/content/drive') # When you run this you'll be prompted for a token - follow the link to generate this."
      ],
      "metadata": {
        "id": "tHj7t9ecYGCW",
        "colab": {
          "base_uri": "https://localhost:8080/"
        },
        "outputId": "7eeec9af-de4e-4550-fc04-15f4acf481a2"
      },
      "execution_count": 24,
      "outputs": [
        {
          "output_type": "stream",
          "name": "stdout",
          "text": [
            "Drive already mounted at /content/drive; to attempt to forcibly remount, call drive.mount(\"/content/drive\", force_remount=True).\n"
          ]
        }
      ]
    },
    {
      "cell_type": "markdown",
      "source": [
        "### Load the data\n",
        "\n",
        "The data is stored in mumpy data files. You can use numpy.load() to read these in.\n",
        "\n",
        "**Note: you'll need to change the location of the file to wherever you stored your files.**"
      ],
      "metadata": {
        "id": "035fhPkVZH15"
      }
    },
    {
      "cell_type": "code",
      "source": [
        "import numpy as np\n",
        "from numpy import genfromtxt\n",
        "\n",
        "data = genfromtxt('/content/drive/MyDrive/data/log.txt', delimiter=',')"
      ],
      "metadata": {
        "id": "FZAWKG59ZMZ_"
      },
      "execution_count": null,
      "outputs": []
    },
    {
      "cell_type": "code",
      "source": [
        "print(data)"
      ],
      "metadata": {
        "id": "OqdzYAfCZQ0h"
      },
      "execution_count": null,
      "outputs": []
    },
    {
      "cell_type": "markdown",
      "source": [
        "### Data structure\n",
        "\n",
        "The columns are:\n",
        "0. Date and time\n",
        "1. Inside temperature 1\n",
        "2. Outside temperature\n",
        "3. CPU Temperature\n",
        "4. Count\n",
        "5. Inside temperature 2\n",
        "6. Air Pressure (mmHg)\n",
        "7. Humidity (%)"
      ],
      "metadata": {
        "id": "slx3PlUhZPpv"
      }
    },
    {
      "cell_type": "code",
      "source": [
        "import matplotlib.pyplot as plt\n",
        "from matplotlib.pyplot import figure\n",
        "\n",
        "figure(figsize=(10, 10), dpi=80)\n",
        "\n",
        "plt.plot(data[:, [1]])\n",
        "plt.plot(data[:, [2]])\n",
        "plt.plot(data[:, [3]])\n",
        "plt.plot(data[:, [4]])\n",
        "plt.plot(data[:, [5]])\n",
        "plt.plot(data[:, [6]])\n",
        "plt.plot(data[:, [7]])"
      ],
      "metadata": {
        "id": "wr_TRw1RZZDO"
      },
      "execution_count": null,
      "outputs": []
    },
    {
      "cell_type": "markdown",
      "source": [
        "### Your answer below"
      ],
      "metadata": {
        "id": "oA2pU3n7Zdah"
      }
    },
    {
      "cell_type": "code",
      "source": [],
      "metadata": {
        "id": "WX3VgZcGZgHS"
      },
      "execution_count": null,
      "outputs": []
    }
  ]
}